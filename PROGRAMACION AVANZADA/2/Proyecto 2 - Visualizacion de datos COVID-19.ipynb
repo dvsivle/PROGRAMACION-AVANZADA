{
 "cells": [
  {
   "cell_type": "markdown",
   "metadata": {},
   "source": [
    "# Visualización de los datos de la epidemia COVID-19"
   ]
  },
  {
   "cell_type": "code",
   "execution_count": 1,
   "metadata": {},
   "outputs": [
    {
     "data": {
      "application/vnd.jupyter.widget-view+json": {
       "model_id": "485842f4f585470d92dee019572499ba",
       "version_major": 2,
       "version_minor": 0
      },
      "text/plain": [
       "HBox(children=(VBox(children=(Dropdown(description='Paises', options=('Afghanistan', 'Albania', 'Algeria', 'An…"
      ]
     },
     "metadata": {},
     "output_type": "display_data"
    },
    {
     "data": {
      "application/vnd.jupyter.widget-view+json": {
       "model_id": "3539885513444530b62e9080175321e1",
       "version_major": 2,
       "version_minor": 0
      },
      "text/plain": [
       "Output()"
      ]
     },
     "metadata": {},
     "output_type": "display_data"
    }
   ],
   "source": [
    "import requests\n",
    "import ipywidgets\n",
    "import json\n",
    "from IPython.display import display\n",
    "import numpy as np\n",
    "import matplotlib.pyplot as plt\n",
    "import datetime\n",
    "\n",
    "source = \"https://pomber.github.io/covid19/timeseries.json\"\n",
    "r = requests.get(source)\n",
    "data_covid = r.json()\n",
    "\n",
    "country_list = [country for country in data_covid.keys()]\n",
    "country_list.sort()\n",
    "\n",
    "# data_covid  = {country1: [{'date': 'yyyy-m-dd', 'confirmed': ?, 'deaths': ?, 'recovered': ?}, ...], \n",
    "#                country2: [{'date': 'yyyy-m-dd', 'confirmed': ?, 'deaths': ?, 'recovered': ?}, ...], ...}\n",
    "\n",
    "DropDown1 = ipywidgets.Dropdown(options=country_list, description=\"Paises\")   # display(ListBox)\n",
    "CheckBox1 = ipywidgets.Checkbox(value=True, description=\"Mostrar Confirmados\")\n",
    "CheckBox2 = ipywidgets.Checkbox(value=True, description=\"Mostrar Fallecidos\")\n",
    "CheckBox3 = ipywidgets.Checkbox(value=True, description=\"Mostrar Recuperados\")\n",
    "RadioButton1 = ipywidgets.RadioButtons(options=[\"Lineal\", \"Logaritmica\"], description=\"Escala Y\")\n",
    "\n",
    "GUI = ipywidgets.HBox([ipywidgets.VBox([DropDown1, RadioButton1]), \n",
    "                       ipywidgets.VBox([CheckBox1, CheckBox2, CheckBox3])])\n",
    "\n",
    "#@ipywidgets.interact(country=DropDown1, \n",
    "#                     show_confirmed=CheckBox1,\n",
    "#                     show_deaths=CheckBox2,\n",
    "#                     show_recovered=CheckBox3, \n",
    "#                     yaxis_type=RadioButton1)\n",
    "def plot_covid_data(country, show_confirmed, show_deaths, show_recovered, yaxis_type):\n",
    "    country_data_list = data_covid.get(country)\n",
    "    date_data = [data_dict.get('date') for data_dict in country_data_list]\n",
    "    confirmed_data = [data_dict.get('confirmed') for data_dict in country_data_list]\n",
    "    death_data = [data_dict.get('deaths') for data_dict in country_data_list]\n",
    "    recovered_data = [data_dict.get('recovered') for data_dict in country_data_list]\n",
    "    n_elements = len(country_data_list)\n",
    "    \n",
    "    text_data = f\"Fecha: {date_data[-1]}:\\n * Confirmados: {confirmed_data[-1]:,}\\n * Fallecidos: {death_data[-1]:,}\\n * Recuperados: {recovered_data[-1]:,}\"\n",
    "    \n",
    "    data_array = np.concatenate([np.array(confirmed_data).reshape(n_elements, 1), \n",
    "                                 np.array(death_data).reshape(n_elements, 1), \n",
    "                                 np.array(recovered_data).reshape(n_elements, 1)], axis=1)\n",
    "    \n",
    "    dates = [datetime.datetime.strptime(d, \"%Y-%m-%d\").date() for d in date_data]\n",
    "    \n",
    "    fig, ax = plt.subplots(figsize=(12, 6))\n",
    "    \n",
    "    if show_confirmed:\n",
    "        if yaxis_type == 'Lineal':\n",
    "            ax.plot(dates, data_array[:,0], '-o', label=\"Confirmados\")\n",
    "        else:\n",
    "            ax.semilogy(dates, data_array[:,0], '-o', label=\"Confirmados\")\n",
    "    \n",
    "    if show_deaths:\n",
    "        if yaxis_type == 'Lineal':\n",
    "            ax.plot(dates, data_array[:,1], '-s', label=\"Fallecidos\")\n",
    "        else:\n",
    "            ax.semilogy(dates, data_array[:,1], '-s', label=\"Fallecidos\")\n",
    "                \n",
    "    if show_recovered:\n",
    "        if yaxis_type == 'Lineal':\n",
    "            ax.plot(dates, data_array[:,2], '-^', label=\"Recuperados\")\n",
    "        else:\n",
    "            ax.semilogy(dates, data_array[:,2], '-^', label=\"Recuperados\")\n",
    "    \n",
    "    ax.set_title(f\"Datos registrados por pais - {country}\")\n",
    "    ax.set_xlabel(\"Fecha\")\n",
    "    ax.set_ylabel(\"Poblacion\")\n",
    "    ax.legend()\n",
    "    ax.grid(linestyle='--', which='both')\n",
    "    \n",
    "    ax.text(ax.get_xlim()[1] + 3, 3.5*ax.get_ylim()[1]/4, text_data, bbox={'facecolor': 'pink'})\n",
    "    \n",
    "    plt.show()\n",
    "    \n",
    "\n",
    "out = ipywidgets.interactive_output(plot_covid_data, {'country': DropDown1,\n",
    "                                                      'show_confirmed': CheckBox1,\n",
    "                                                      'show_deaths': CheckBox2,\n",
    "                                                      'show_recovered': CheckBox3, \n",
    "                                                      'yaxis_type': RadioButton1})\n",
    "display(GUI, out)"
   ]
  },
  {
   "cell_type": "markdown",
   "metadata": {},
   "source": [
    "# Modelamiento matemático de epidemias (Modelo SIR o modelo simple de Kermack y McKendrick)\n",
    "\n",
    "El modelo básico de epidemiología se conoce como Modelo SIR, donde las siglas indican la cantidad de Suceptibles, Infectados y Recuperados (donde se contabilizan aquellos que superaron la enfermedad tanto como los que fallecieron como resultado de esta).\n",
    "\n",
    "\n",
    "\n",
    "<p>$\\frac{dS}{dt} = -\\frac{\\beta IS}{N}$</p>\n",
    "<p>$\\frac{dI}{dt} = \\frac{\\beta IS}{N} - \\gamma I$</p>\n",
    "<p>$\\space\\space \\frac{dR}{dt} = \\gamma I$</p>"
   ]
  },
  {
   "cell_type": "code",
   "execution_count": 2,
   "metadata": {},
   "outputs": [
    {
     "data": {
      "application/vnd.jupyter.widget-view+json": {
       "model_id": "43e2bcd0385647839f46c70e521bb271",
       "version_major": 2,
       "version_minor": 0
      },
      "text/plain": [
       "HBox(children=(FloatSlider(value=2.5, description='Transm', max=5.0, min=0.1, step=0.01), FloatSlider(value=0.…"
      ]
     },
     "metadata": {},
     "output_type": "display_data"
    },
    {
     "data": {
      "application/vnd.jupyter.widget-view+json": {
       "model_id": "551ef649b37b47a3b03edf4ec3264739",
       "version_major": 2,
       "version_minor": 0
      },
      "text/plain": [
       "Output()"
      ]
     },
     "metadata": {},
     "output_type": "display_data"
    }
   ],
   "source": [
    "import numpy as np\n",
    "import matplotlib.pyplot as plt\n",
    "from scipy.integrate import odeint\n",
    "import ipywidgets\n",
    "from IPython.display import display\n",
    "\n",
    "N = 1           # Poblacion\n",
    "#beta = 3.2     # Tasa de infeccion\n",
    "#gamma = 0.23   # Tasa de Recuperacion\n",
    "\n",
    "# def dU_dt(U, t):\n",
    "#    Y = np.zeros(3)\n",
    "#    Y[0] = -beta * U[0] * U[1]\n",
    "#    Y[1] = beta * U[0] * U[1] - gamma * U[1]\n",
    "#    Y[2] = gamma * U[1]\n",
    "#    return Y\n",
    "\n",
    "Beta = ipywidgets.FloatSlider(min=0.1, max=5.0, step=0.01, value=2.5, description=\"Transm\")\n",
    "Gamma = ipywidgets.FloatSlider(min=0.1, max=1.0, step=0.01, value=0.35, description=\"Recup\")\n",
    "Tmax = tmax=ipywidgets.IntSlider(min=1, max=100, value=50, description=\"Tiempo\")\n",
    "GUI = ipywidgets.HBox([Beta, Gamma, Tmax])\n",
    "\n",
    "def plot_SIR(beta, gamma, tmax):\n",
    "    \n",
    "    def dU_dt(U, t):\n",
    "        Y = np.zeros(3)\n",
    "        Y[0] = -beta * U[0] * U[1]\n",
    "        Y[1] = beta * U[0] * U[1] - gamma * U[1]\n",
    "        Y[2] = gamma * U[1]\n",
    "        return Y\n",
    "\n",
    "    U0 = [0.99, 0.01, 0]   # Sini, Sin, Rini\n",
    "    t = np.arange(0, tmax, 0.1)\n",
    "    \n",
    "    Us = odeint(dU_dt, U0, t)\n",
    "\n",
    "    Ss = N * Us[:,0]\n",
    "    Is = N * Us[:,1]\n",
    "    Rs = N * Us[:,2]\n",
    "\n",
    "    Imax = np.max(Is)\n",
    "    r0 = beta / gamma   # Numero reproductivo basico (r = 2): r > 1 (Epidemia)\n",
    "    \n",
    "    fig, ax = plt.subplots(figsize=(12, 8))\n",
    "    ax.plot(t, Ss, label='Suceptibles')\n",
    "    ax.plot(t, Is, label='Infectados')\n",
    "    ax.plot(t, Rs, label='Recuperados')\n",
    "    ax.legend()\n",
    "    ax.set_xlabel(\"Tiempo\")\n",
    "    ax.set_ylabel(\"Poblacion\")\n",
    "    ax.grid()\n",
    "    plt.show()\n",
    "    \n",
    "    print(f\"r0 = {r0:.4f}, Max Infectados = {round(Imax):,.0f}\")\n",
    "    \n",
    "    \n",
    "out = ipywidgets.interactive_output(plot_SIR, {'beta': Beta, 'gamma': Gamma, 'tmax': Tmax})\n",
    "display(GUI, out)"
   ]
  },
  {
   "cell_type": "code",
   "execution_count": null,
   "metadata": {},
   "outputs": [],
   "source": []
  }
 ],
 "metadata": {
  "kernelspec": {
   "display_name": "Python 3",
   "language": "python",
   "name": "python3"
  },
  "language_info": {
   "codemirror_mode": {
    "name": "ipython",
    "version": 3
   },
   "file_extension": ".py",
   "mimetype": "text/x-python",
   "name": "python",
   "nbconvert_exporter": "python",
   "pygments_lexer": "ipython3",
   "version": "3.7.6"
  }
 },
 "nbformat": 4,
 "nbformat_minor": 4
}
