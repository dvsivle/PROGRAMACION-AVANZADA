{
 "cells": [
  {
   "cell_type": "markdown",
   "metadata": {},
   "source": [
    "# API REST\n",
    "Igual que una interfaz de usuario permite la interacción y comunicación entre un software y una persona, una API (acrónimo de Application Programming Interface) facilita la relación entre dos aplicaciones para el intercambio de mensajes o datos. Un conjunto de funciones y procedimientos que ofrece una biblioteca para que otro software la utilice como capa de abstracción, un espacio de acceso e intercambio de información adicional en la parte superior. Así una se sirve de la información de la otra sin dejar de ser independientes. \n",
    "\n",
    "REST es un estilo de arquitectura de software que se utiliza para describir cualquier interfaz entre diferentes sistemas que utilice HTTP para comunicarse. Este término significa REpresentational State Transfer (transferencia de estado representacional), lo que quiere decir que entre dos llamadas cualquiera, el servicio no guarda los datos. Por ejemplo, podemos autenticar a un usuario con su email y contraseña en una llamada, pero la siguiente que hagamos ya se habrá olvidado de la anterior petición de autenticación.\n",
    "\n",
    "Una API REST es un backend capaz de contestar a las llamadas a una serie de URLs en formato JSON. Es utilizado por muchas empresas gracias a su versatilidad y eficiencia.\n",
    "\n",
    "La principal ventaja de las API REST es que podemos desarrollar una API en el backend y utilizarla en cualquier dispositivo, ahorrando así mucho tiempo de desarrollo. En el caso de Twitter, la misma API se consume desde Android, iOS y el navegador web.\n",
    "\n",
    "<img src=\"https://phpenthusiast.com/theme/assets/images/blog/what_is_rest_api.png\" alt=\"drawing\" width=\"500\"/>"
   ]
  },
  {
   "cell_type": "markdown",
   "metadata": {},
   "source": [
    "## API REST con request\n",
    "Para utilizar las facilidades de un API REST, es necesario contar con el URI (Uniform Resource Identifier) del recurso y un método de obtener las respuestas ante las peticiones de recursos o acciones sobre el servicio.\n",
    "\n",
    "![](https://avaldes.com/wp-content/uploads/2017/08/REST_URL_structure.png)\n",
    "\n",
    "Para manipular los recursos, HTTP nos dota de los siguientes métodos con los cuales debemos operar:\n",
    "\n",
    "* GET: Para consultar y leer recursos\n",
    "* POST: Para crear recursos\n",
    "* PUT: Para editar recursos\n",
    "* DELETE: Para eliminar recursos.\n",
    "* PATCH: Para editar partes concretas de un recurso.\n",
    "\n",
    "Los métodos de uso más común son GET y POST. Por ejemplo, se puede utilizar GET para saber las ultimas actualizaciones de una cuenta de Twitter, o utilizar POST para enviar un Twitter bajo una cuenta de usuario."
   ]
  },
  {
   "cell_type": "code",
   "execution_count": 1,
   "metadata": {},
   "outputs": [],
   "source": [
    "import requests\n",
    "import json"
   ]
  },
  {
   "cell_type": "markdown",
   "metadata": {},
   "source": [
    "### Public API REST\n",
    "Existen API REST públicas, es decír de libre consulta para obtener información sobre algunos recursos disponibles de dominio público. Por ejemplo, se puede obtener información libre de la Estación Espacial Internacional (IIS) en el proyecto de fuente abierta [Open Notify](http://open-notify.org/). Aquí podemos obtener algunos datos sobre la Estación Espacial y sus tripulantes."
   ]
  },
  {
   "cell_type": "code",
   "execution_count": 2,
   "metadata": {},
   "outputs": [],
   "source": [
    "URL = \"http://api.open-notify.org/iss-now.json\"\n",
    "r = requests.get(URL)"
   ]
  },
  {
   "cell_type": "code",
   "execution_count": 3,
   "metadata": {},
   "outputs": [
    {
     "data": {
      "text/plain": [
       "True"
      ]
     },
     "execution_count": 3,
     "metadata": {},
     "output_type": "execute_result"
    }
   ],
   "source": [
    "r.status_code == requests.codes.ok"
   ]
  },
  {
   "cell_type": "code",
   "execution_count": 4,
   "metadata": {},
   "outputs": [
    {
     "name": "stdout",
     "output_type": "stream",
     "text": [
      "{\n",
      "    \"message\": \"success\",\n",
      "    \"iss_position\": {\n",
      "        \"latitude\": \"46.8284\",\n",
      "        \"longitude\": \"101.8488\"\n",
      "    },\n",
      "    \"timestamp\": 1591101637\n",
      "}\n"
     ]
    }
   ],
   "source": [
    "URL = \"http://api.open-notify.org/iss-now.json\"\n",
    "r = requests.get(URL)\n",
    "\n",
    "if r.status_code == requests.codes.ok:\n",
    "    data = r.json()\n",
    "    \n",
    "    print(json.dumps(data, indent=4))\n",
    "else:\n",
    "    print(f\"ERROR: Reponse: {r.status_code}\")"
   ]
  },
  {
   "cell_type": "code",
   "execution_count": 5,
   "metadata": {},
   "outputs": [
    {
     "name": "stdout",
     "output_type": "stream",
     "text": [
      "Date & Time: 2020-06-02 07:40:37\n",
      "Lat: 46.8284, Lon:101.8488\n"
     ]
    }
   ],
   "source": [
    "from datetime import datetime\n",
    "\n",
    "print(f\"Date & Time: {datetime.fromtimestamp(int(data['timestamp']))}\")\n",
    "print(f\"Lat: {data['iss_position']['latitude']}, Lon:{data['iss_position']['longitude']}\")"
   ]
  },
  {
   "cell_type": "markdown",
   "metadata": {},
   "source": [
    "### API REST con parametros\n",
    "La librería `request` tiene como principal utilidad la conformación de un URI a partir de un URL; esto quiere decir, agregarle los parametros requeridos por un GET para obtener la información necesaria.\n",
    "\n",
    "Por ejemplo, para obtener los momentos en los que se puede tener visibilidad de la Estacion Espacial, se puede hacer una consulta sobre el servicio, agregandole la locación de observación."
   ]
  },
  {
   "cell_type": "code",
   "execution_count": 6,
   "metadata": {},
   "outputs": [
    {
     "name": "stdout",
     "output_type": "stream",
     "text": [
      "GET http://api.open-notify.org/iss-pass.json?lat=-12.0500&lon=-77.0500\n",
      "{\n",
      "    \"message\": \"success\",\n",
      "    \"request\": {\n",
      "        \"altitude\": 100,\n",
      "        \"datetime\": 1591101716,\n",
      "        \"latitude\": -12.05,\n",
      "        \"longitude\": -77.05,\n",
      "        \"passes\": 5\n",
      "    },\n",
      "    \"response\": [\n",
      "        {\n",
      "            \"duration\": 625,\n",
      "            \"risetime\": 1591110429\n",
      "        },\n",
      "        {\n",
      "            \"duration\": 513,\n",
      "            \"risetime\": 1591116277\n",
      "        },\n",
      "        {\n",
      "            \"duration\": 643,\n",
      "            \"risetime\": 1591158296\n",
      "        },\n",
      "        {\n",
      "            \"duration\": 472,\n",
      "            \"risetime\": 1591164189\n",
      "        },\n",
      "        {\n",
      "            \"duration\": 562,\n",
      "            \"risetime\": 1591193989\n",
      "        }\n",
      "    ]\n",
      "}\n"
     ]
    }
   ],
   "source": [
    "# URI: \"http://api.open-notify.org/iss-pass.json?lat=LAT&lon=LON\"\n",
    "URL = \"http://api.open-notify.org/iss-pass.json\"\n",
    "payload={'lat': '-12.0500',\n",
    "         'lon': '-77.0500'}\n",
    "r = requests.get(URL, params=payload)\n",
    "print(f\"GET {r.url}\")\n",
    "\n",
    "if r.status_code == requests.codes.ok:\n",
    "    data = r.json()\n",
    "    \n",
    "    print(json.dumps(data, indent=4))\n",
    "\n",
    "    # Guardar en un archivo\n",
    "    with open(\"temp.json\", mode='w') as file:\n",
    "        json.dump(data, file)\n",
    "else:\n",
    "    print(r.status_code)"
   ]
  },
  {
   "cell_type": "markdown",
   "metadata": {},
   "source": [
    "### Ejercicio\n",
    "Escriba un programa en Python que pida al usuario una coordenada y retorne las próximas 5 vistas posibles de la Estación (fecha-hora inicial/final)    "
   ]
  },
  {
   "cell_type": "code",
   "execution_count": null,
   "metadata": {},
   "outputs": [],
   "source": [
    "import requests\n",
    "from datetime import datetime\n",
    "\n",
    "URL = \"http://api.open-notify.org/iss-pass.json\"\n",
    "lat, lon = input(\"Ingrese coordenadas [NS EO]:\").split()\n",
    "\n",
    "payload={'lat': lat,\n",
    "         'lon': lon}\n",
    "r = requests.get(URL, params=payload)\n",
    "\n",
    "if r.status_code == requests.codes.ok:\n",
    "    data = r.json()\n",
    "    \n",
    "    for idx, item in enumerate(data['response'], start=1):\n",
    "        print(f\"{idx}. INI: {datetime.fromtimestamp(int(item['risetime']))} - FIN: {datetime.fromtimestamp(int(item['risetime'] + item['duration']))}\")\n",
    "        \n",
    "else:\n",
    "    print(\"ERROR:\", r.status_code)"
   ]
  },
  {
   "cell_type": "markdown",
   "metadata": {},
   "source": [
    "### Ejercicio\n",
    "Escriba una aplicación en tkinter que muestre en tiempo real la ubicación en forma de coordenadas de la Estación Espacial Internacional"
   ]
  },
  {
   "cell_type": "code",
   "execution_count": null,
   "metadata": {},
   "outputs": [],
   "source": [
    "import tkinter as tk\n",
    "import requests\n",
    "from time import sleep\n",
    "import threading\n",
    "\n",
    "class App:\n",
    "    def __init__(self, master):\n",
    "        self.master = master\n",
    "        self.master.geometry(\"240x100+100+100\")\n",
    "        self.master.resizable(0, 0)\n",
    "        \n",
    "        self.URL = \"http://api.open-notify.org/iss-now.json\"\n",
    "        \n",
    "        self.lblNS = tk.Label(self.master, font='Arial 12 bold')\n",
    "        self.lblWE = tk.Label(self.master, font='Arial 12 bold')\n",
    "        \n",
    "        self.lblNS.pack(padx=10, pady=10)\n",
    "        self.lblWE.pack(padx=10, pady=10)\n",
    "        \n",
    "        th = threading.Thread(target=self.query_iis, daemon=True)\n",
    "        th.start()\n",
    "        \n",
    "\n",
    "    def query_iis(self):\n",
    "        while True:\n",
    "            r = requests.get(self.URL)\n",
    "\n",
    "            if r.status_code == requests.codes.ok:\n",
    "                data = r.json()\n",
    "                loc_NS = data['iss_position']['latitude']\n",
    "                loc_WE = data['iss_position']['longitude']\n",
    "\n",
    "                self.lblNS.config(text=f\"{loc_NS} °N\")\n",
    "                self.lblWE.config(text=f\"{loc_WE} °W\")\n",
    "            \n",
    "            sleep(1)\n",
    "\n",
    "        \n",
    "root = tk.Tk()\n",
    "app = App(root)\n",
    "root.mainloop()"
   ]
  },
  {
   "cell_type": "markdown",
   "metadata": {},
   "source": [
    "### Public Key API REST\n",
    "Existen API REST que requieren de un tipo de authenticación por parte del usuario simple, en forma de una código alfanumérico llamado llave (ya sea privada, de consumo, etc.) que debe ser generada como parte de un proceso de creación de cuenta de desarrollador. Por ejemplo, el API REST de [MapQuest](https://developer.mapquest.com/) permite obtener muchos servicios geográficos, pero requiere el uso de una llave de autenticación, por lo que será necesario abrir una cuenta y utilizar la llave para utilizar los recursos."
   ]
  },
  {
   "cell_type": "code",
   "execution_count": 3,
   "metadata": {},
   "outputs": [],
   "source": [
    "# Abra una cuenta en MapQuest Developer e insertela aqui\n",
    "MAPQUEST_KEY = \"uIYcZa0GS5VNGH1FyqFme2FykafjI2nH\""
   ]
  },
  {
   "cell_type": "markdown",
   "metadata": {},
   "source": [
    "El API REST Geocoding permite obtener las coordenadas geográficas a partir de una dirección."
   ]
  },
  {
   "cell_type": "code",
   "execution_count": 4,
   "metadata": {},
   "outputs": [
    {
     "name": "stdout",
     "output_type": "stream",
     "text": [
      "GET http://open.mapquestapi.com/geocoding/v1/address?key=uIYcZa0GS5VNGH1FyqFme2FykafjI2nH&location=Av.+Primavera+2310%2C+Santiago+de+Surco%2C+Lima\n",
      "{\n",
      "    \"info\": {\n",
      "        \"statuscode\": 0,\n",
      "        \"copyright\": {\n",
      "            \"text\": \"\\u00a9 2020 MapQuest, Inc.\",\n",
      "            \"imageUrl\": \"http://api.mqcdn.com/res/mqlogo.gif\",\n",
      "            \"imageAltText\": \"\\u00a9 2020 MapQuest, Inc.\"\n",
      "        },\n",
      "        \"messages\": []\n",
      "    },\n",
      "    \"options\": {\n",
      "        \"maxResults\": -1,\n",
      "        \"thumbMaps\": true,\n",
      "        \"ignoreLatLngInput\": false\n",
      "    },\n",
      "    \"results\": [\n",
      "        {\n",
      "            \"providedLocation\": {\n",
      "                \"location\": \"Av. Primavera 2310, Santiago de Surco, Lima\"\n",
      "            },\n",
      "            \"locations\": [\n",
      "                {\n",
      "                    \"street\": \"Avenida Primavera\",\n",
      "                    \"adminArea6\": \"House\",\n",
      "                    \"adminArea6Type\": \"Neighborhood\",\n",
      "                    \"adminArea5\": \"Santiago de Surco\",\n",
      "                    \"adminArea5Type\": \"City\",\n",
      "                    \"adminArea4\": \"Lima\",\n",
      "                    \"adminArea4Type\": \"County\",\n",
      "                    \"adminArea3\": \"Lima\",\n",
      "                    \"adminArea3Type\": \"State\",\n",
      "                    \"adminArea1\": \"PE\",\n",
      "                    \"adminArea1Type\": \"Country\",\n",
      "                    \"postalCode\": \"33\",\n",
      "                    \"geocodeQualityCode\": \"B1XAX\",\n",
      "                    \"geocodeQuality\": \"STREET\",\n",
      "                    \"dragPoint\": false,\n",
      "                    \"sideOfStreet\": \"N\",\n",
      "                    \"linkId\": \"0\",\n",
      "                    \"unknownInput\": \"\",\n",
      "                    \"type\": \"s\",\n",
      "                    \"latLng\": {\n",
      "                        \"lat\": -12.108855,\n",
      "                        \"lng\": -76.970686\n",
      "                    },\n",
      "                    \"displayLatLng\": {\n",
      "                        \"lat\": -12.108855,\n",
      "                        \"lng\": -76.970686\n",
      "                    },\n",
      "                    \"mapUrl\": \"http://open.mapquestapi.com/staticmap/v5/map?key=uIYcZa0GS5VNGH1FyqFme2FykafjI2nH&type=map&size=225,160&locations=-12.1088547,-76.9706857|marker-sm-50318A-1&scalebar=true&zoom=15&rand=-472208179\"\n",
      "                },\n",
      "                {\n",
      "                    \"street\": \"Avenida Primavera\",\n",
      "                    \"adminArea6\": \"House\",\n",
      "                    \"adminArea6Type\": \"Neighborhood\",\n",
      "                    \"adminArea5\": \"Santiago de Surco\",\n",
      "                    \"adminArea5Type\": \"City\",\n",
      "                    \"adminArea4\": \"Lima\",\n",
      "                    \"adminArea4Type\": \"County\",\n",
      "                    \"adminArea3\": \"Lima\",\n",
      "                    \"adminArea3Type\": \"State\",\n",
      "                    \"adminArea1\": \"PE\",\n",
      "                    \"adminArea1Type\": \"Country\",\n",
      "                    \"postalCode\": \"33\",\n",
      "                    \"geocodeQualityCode\": \"B1XAX\",\n",
      "                    \"geocodeQuality\": \"STREET\",\n",
      "                    \"dragPoint\": false,\n",
      "                    \"sideOfStreet\": \"N\",\n",
      "                    \"linkId\": \"0\",\n",
      "                    \"unknownInput\": \"\",\n",
      "                    \"type\": \"s\",\n",
      "                    \"latLng\": {\n",
      "                        \"lat\": -12.110468,\n",
      "                        \"lng\": -76.980739\n",
      "                    },\n",
      "                    \"displayLatLng\": {\n",
      "                        \"lat\": -12.110468,\n",
      "                        \"lng\": -76.980739\n",
      "                    },\n",
      "                    \"mapUrl\": \"http://open.mapquestapi.com/staticmap/v5/map?key=uIYcZa0GS5VNGH1FyqFme2FykafjI2nH&type=map&size=225,160&locations=-12.1104678,-76.9807394|marker-sm-50318A-2&scalebar=true&zoom=15&rand=924515644\"\n",
      "                },\n",
      "                {\n",
      "                    \"street\": \"Avenida Primavera\",\n",
      "                    \"adminArea6\": \"House\",\n",
      "                    \"adminArea6Type\": \"Neighborhood\",\n",
      "                    \"adminArea5\": \"Santiago de Surco\",\n",
      "                    \"adminArea5Type\": \"City\",\n",
      "                    \"adminArea4\": \"Lima\",\n",
      "                    \"adminArea4Type\": \"County\",\n",
      "                    \"adminArea3\": \"Lima\",\n",
      "                    \"adminArea3Type\": \"State\",\n",
      "                    \"adminArea1\": \"PE\",\n",
      "                    \"adminArea1Type\": \"Country\",\n",
      "                    \"postalCode\": \"15023\",\n",
      "                    \"geocodeQualityCode\": \"B1XAX\",\n",
      "                    \"geocodeQuality\": \"STREET\",\n",
      "                    \"dragPoint\": false,\n",
      "                    \"sideOfStreet\": \"N\",\n",
      "                    \"linkId\": \"0\",\n",
      "                    \"unknownInput\": \"\",\n",
      "                    \"type\": \"s\",\n",
      "                    \"latLng\": {\n",
      "                        \"lat\": -12.104226,\n",
      "                        \"lng\": -76.964235\n",
      "                    },\n",
      "                    \"displayLatLng\": {\n",
      "                        \"lat\": -12.104226,\n",
      "                        \"lng\": -76.964235\n",
      "                    },\n",
      "                    \"mapUrl\": \"http://open.mapquestapi.com/staticmap/v5/map?key=uIYcZa0GS5VNGH1FyqFme2FykafjI2nH&type=map&size=225,160&locations=-12.1042264,-76.9642351|marker-sm-50318A-3&scalebar=true&zoom=15&rand=565349134\"\n",
      "                },\n",
      "                {\n",
      "                    \"street\": \"Avenida Primavera\",\n",
      "                    \"adminArea6\": \"Santiago de Surco\",\n",
      "                    \"adminArea6Type\": \"Neighborhood\",\n",
      "                    \"adminArea5\": \"Santiago de Surco\",\n",
      "                    \"adminArea5Type\": \"City\",\n",
      "                    \"adminArea4\": \"Lima\",\n",
      "                    \"adminArea4Type\": \"County\",\n",
      "                    \"adminArea3\": \"Lima\",\n",
      "                    \"adminArea3Type\": \"State\",\n",
      "                    \"adminArea1\": \"PE\",\n",
      "                    \"adminArea1Type\": \"Country\",\n",
      "                    \"postalCode\": \"150140\",\n",
      "                    \"geocodeQualityCode\": \"B1XAX\",\n",
      "                    \"geocodeQuality\": \"STREET\",\n",
      "                    \"dragPoint\": false,\n",
      "                    \"sideOfStreet\": \"N\",\n",
      "                    \"linkId\": \"0\",\n",
      "                    \"unknownInput\": \"\",\n",
      "                    \"type\": \"s\",\n",
      "                    \"latLng\": {\n",
      "                        \"lat\": -12.111131,\n",
      "                        \"lng\": -76.989401\n",
      "                    },\n",
      "                    \"displayLatLng\": {\n",
      "                        \"lat\": -12.111131,\n",
      "                        \"lng\": -76.989401\n",
      "                    },\n",
      "                    \"mapUrl\": \"http://open.mapquestapi.com/staticmap/v5/map?key=uIYcZa0GS5VNGH1FyqFme2FykafjI2nH&type=map&size=225,160&locations=-12.1111306,-76.989401|marker-sm-50318A-4&scalebar=true&zoom=15&rand=-63590965\"\n",
      "                },\n",
      "                {\n",
      "                    \"street\": \"Avenida Primavera\",\n",
      "                    \"adminArea6\": \"Santiago de Surco\",\n",
      "                    \"adminArea6Type\": \"Neighborhood\",\n",
      "                    \"adminArea5\": \"Santiago de Surco\",\n",
      "                    \"adminArea5Type\": \"City\",\n",
      "                    \"adminArea4\": \"Lima\",\n",
      "                    \"adminArea4Type\": \"County\",\n",
      "                    \"adminArea3\": \"Lima\",\n",
      "                    \"adminArea3Type\": \"State\",\n",
      "                    \"adminArea1\": \"PE\",\n",
      "                    \"adminArea1Type\": \"Country\",\n",
      "                    \"postalCode\": \"33\",\n",
      "                    \"geocodeQualityCode\": \"B1XAX\",\n",
      "                    \"geocodeQuality\": \"STREET\",\n",
      "                    \"dragPoint\": false,\n",
      "                    \"sideOfStreet\": \"N\",\n",
      "                    \"linkId\": \"0\",\n",
      "                    \"unknownInput\": \"\",\n",
      "                    \"type\": \"s\",\n",
      "                    \"latLng\": {\n",
      "                        \"lat\": -12.110707,\n",
      "                        \"lng\": -76.982985\n",
      "                    },\n",
      "                    \"displayLatLng\": {\n",
      "                        \"lat\": -12.110707,\n",
      "                        \"lng\": -76.982985\n",
      "                    },\n",
      "                    \"mapUrl\": \"http://open.mapquestapi.com/staticmap/v5/map?key=uIYcZa0GS5VNGH1FyqFme2FykafjI2nH&type=map&size=225,160&locations=-12.110707,-76.9829849|marker-sm-50318A-5&scalebar=true&zoom=15&rand=835765474\"\n",
      "                },\n",
      "                {\n",
      "                    \"street\": \"Avenida Primavera\",\n",
      "                    \"adminArea6\": \"San Borja\",\n",
      "                    \"adminArea6Type\": \"Neighborhood\",\n",
      "                    \"adminArea5\": \"San Borja\",\n",
      "                    \"adminArea5Type\": \"City\",\n",
      "                    \"adminArea4\": \"Lima\",\n",
      "                    \"adminArea4Type\": \"County\",\n",
      "                    \"adminArea3\": \"Lima\",\n",
      "                    \"adminArea3Type\": \"State\",\n",
      "                    \"adminArea1\": \"PE\",\n",
      "                    \"adminArea1Type\": \"Country\",\n",
      "                    \"postalCode\": \"150140\",\n",
      "                    \"geocodeQualityCode\": \"B1XXX\",\n",
      "                    \"geocodeQuality\": \"STREET\",\n",
      "                    \"dragPoint\": false,\n",
      "                    \"sideOfStreet\": \"N\",\n",
      "                    \"linkId\": \"0\",\n",
      "                    \"unknownInput\": \"\",\n",
      "                    \"type\": \"s\",\n",
      "                    \"latLng\": {\n",
      "                        \"lat\": -12.110989,\n",
      "                        \"lng\": -76.990447\n",
      "                    },\n",
      "                    \"displayLatLng\": {\n",
      "                        \"lat\": -12.110989,\n",
      "                        \"lng\": -76.990447\n",
      "                    },\n",
      "                    \"mapUrl\": \"http://open.mapquestapi.com/staticmap/v5/map?key=uIYcZa0GS5VNGH1FyqFme2FykafjI2nH&type=map&size=225,160&locations=-12.1109894,-76.9904473|marker-sm-50318A-6&scalebar=true&zoom=15&rand=-1210544414\"\n",
      "                },\n",
      "                {\n",
      "                    \"street\": \"Avenida Primavera\",\n",
      "                    \"adminArea6\": \"San Borja\",\n",
      "                    \"adminArea6Type\": \"Neighborhood\",\n",
      "                    \"adminArea5\": \"San Borja\",\n",
      "                    \"adminArea5Type\": \"City\",\n",
      "                    \"adminArea4\": \"Lima\",\n",
      "                    \"adminArea4Type\": \"County\",\n",
      "                    \"adminArea3\": \"Lima\",\n",
      "                    \"adminArea3Type\": \"State\",\n",
      "                    \"adminArea1\": \"PE\",\n",
      "                    \"adminArea1Type\": \"Country\",\n",
      "                    \"postalCode\": \"33\",\n",
      "                    \"geocodeQualityCode\": \"B1XXX\",\n",
      "                    \"geocodeQuality\": \"STREET\",\n",
      "                    \"dragPoint\": false,\n",
      "                    \"sideOfStreet\": \"N\",\n",
      "                    \"linkId\": \"0\",\n",
      "                    \"unknownInput\": \"\",\n",
      "                    \"type\": \"s\",\n",
      "                    \"latLng\": {\n",
      "                        \"lat\": -12.110379,\n",
      "                        \"lng\": -76.981783\n",
      "                    },\n",
      "                    \"displayLatLng\": {\n",
      "                        \"lat\": -12.110379,\n",
      "                        \"lng\": -76.981783\n",
      "                    },\n",
      "                    \"mapUrl\": \"http://open.mapquestapi.com/staticmap/v5/map?key=uIYcZa0GS5VNGH1FyqFme2FykafjI2nH&type=map&size=225,160&locations=-12.1103786,-76.981783|marker-sm-50318A-7&scalebar=true&zoom=15&rand=1424002592\"\n",
      "                },\n",
      "                {\n",
      "                    \"street\": \"Avenida Primavera\",\n",
      "                    \"adminArea6\": \"San Borja\",\n",
      "                    \"adminArea6Type\": \"Neighborhood\",\n",
      "                    \"adminArea5\": \"San Borja\",\n",
      "                    \"adminArea5Type\": \"City\",\n",
      "                    \"adminArea4\": \"Lima\",\n",
      "                    \"adminArea4Type\": \"County\",\n",
      "                    \"adminArea3\": \"Lima\",\n",
      "                    \"adminArea3Type\": \"State\",\n",
      "                    \"adminArea1\": \"PE\",\n",
      "                    \"adminArea1Type\": \"Country\",\n",
      "                    \"postalCode\": \"150140\",\n",
      "                    \"geocodeQualityCode\": \"B1XXX\",\n",
      "                    \"geocodeQuality\": \"STREET\",\n",
      "                    \"dragPoint\": false,\n",
      "                    \"sideOfStreet\": \"N\",\n",
      "                    \"linkId\": \"0\",\n",
      "                    \"unknownInput\": \"\",\n",
      "                    \"type\": \"s\",\n",
      "                    \"latLng\": {\n",
      "                        \"lat\": -12.110988,\n",
      "                        \"lng\": -76.991772\n",
      "                    },\n",
      "                    \"displayLatLng\": {\n",
      "                        \"lat\": -12.110988,\n",
      "                        \"lng\": -76.991772\n",
      "                    },\n",
      "                    \"mapUrl\": \"http://open.mapquestapi.com/staticmap/v5/map?key=uIYcZa0GS5VNGH1FyqFme2FykafjI2nH&type=map&size=225,160&locations=-12.1109879,-76.9917723|marker-sm-50318A-8&scalebar=true&zoom=15&rand=-899346975\"\n",
      "                }\n",
      "            ]\n",
      "        }\n",
      "    ]\n",
      "}\n"
     ]
    }
   ],
   "source": [
    "URL = \"http://open.mapquestapi.com/geocoding/v1/address\"\n",
    "payload = {'key': MAPQUEST_KEY, \n",
    "           'location': 'Av. Primavera 2310, Santiago de Surco, Lima'}\n",
    "r = requests.get(URL, params=payload)\n",
    "print(f\"GET {r.url}\")\n",
    "\n",
    "if r.status_code == requests.codes.ok:\n",
    "    data = r.json()\n",
    "    print(json.dumps(data, indent=4))\n",
    "    # Guardar en un archivo\n",
    "    with open(\"temp.json\", mode='w') as file:\n",
    "        json.dump(data, file)\n",
    "else:\n",
    "    print(r.status_code)"
   ]
  },
  {
   "cell_type": "markdown",
   "metadata": {},
   "source": [
    "### Ejercicio\n",
    "Escriba un programa en Python que pida al usuario una direccion y retorne las próximas 5 vistas posibles de la Estación (fecha-hora inicial/final)\n",
    "\n",
    "    Ingrese la direccion:\n",
    " "
   ]
  },
  {
   "cell_type": "code",
   "execution_count": 11,
   "metadata": {},
   "outputs": [
    {
     "name": "stdin",
     "output_type": "stream",
     "text": [
      "Ingrese una ubicacion de observacion:  Av. La Marina 2810, San Miguel, Lima\n"
     ]
    },
    {
     "name": "stdout",
     "output_type": "stream",
     "text": [
      "1. INI: 2020-06-02 10:04:16 - FIN: 2020-06-02 10:13:17\n",
      "2. INI: 2020-06-02 23:31:21 - FIN: 2020-06-02 23:40:28\n",
      "3. INI: 2020-06-03 01:06:53 - FIN: 2020-06-03 01:17:49\n",
      "4. INI: 2020-06-03 02:45:35 - FIN: 2020-06-03 02:54:02\n",
      "5. INI: 2020-06-03 04:25:31 - FIN: 2020-06-03 04:30:53\n"
     ]
    }
   ],
   "source": [
    "import requests\n",
    "from datetime import datetime\n",
    "\n",
    "URL = \"http://open.mapquestapi.com/geocoding/v1/address\"\n",
    "location = input(\"Ingrese una ubicacion de observacion: \")\n",
    "\n",
    "payload = {'key': MAPQUEST_KEY, \n",
    "           'location': location}\n",
    "r = requests.get(URL, params=payload)\n",
    "\n",
    "if r.status_code == requests.codes.ok:\n",
    "    data = r.json()\n",
    "    payload={'lat': data['results'][0]['locations'][1]['latLng']['lat'],\n",
    "             'lon': data['results'][0]['locations'][1]['latLng']['lng']}\n",
    "    \n",
    "    URL = \"http://api.open-notify.org/iss-pass.json\"\n",
    "\n",
    "    \n",
    "    r = requests.get(URL, params=payload)\n",
    "\n",
    "    if r.status_code == requests.codes.ok:\n",
    "        data = r.json()\n",
    "\n",
    "        for idx, item in enumerate(data['response'], start=1):\n",
    "            print(f\"{idx}. INI: {datetime.fromtimestamp(int(item['risetime']))} - FIN: {datetime.fromtimestamp(int(item['risetime'] + item['duration']))}\")\n",
    "    else:\n",
    "        print(\"ERROR:\", r.status_code)\n",
    "else:\n",
    "    print(\"ERROR:\", r.status_code)\n",
    "    \n",
    "# Av. La Marina 2810, San Miguel, Lima"
   ]
  },
  {
   "cell_type": "markdown",
   "metadata": {},
   "source": [
    "El API REST Directions permite obtener las direcciones a seguir para llegar desde un punto a otro, utilizando geolocalización."
   ]
  },
  {
   "cell_type": "code",
   "execution_count": 12,
   "metadata": {},
   "outputs": [
    {
     "name": "stdout",
     "output_type": "stream",
     "text": [
      "GET http://www.mapquestapi.com/directions/v2/route?key=uIYcZa0GS5VNGH1FyqFme2FykafjI2nH&from=Av.+Primavera+2310%2C+Santiago+de+Surco%2C+Lima&to=La+Marina+2810%2C+San+Miguel%2C+Lima&unit=k\n"
     ]
    }
   ],
   "source": [
    "URL = \"http://www.mapquestapi.com/directions/v2/route\"\n",
    "payload = {'key': MAPQUEST_KEY, \n",
    "           'from': 'Av. Primavera 2310, Santiago de Surco, Lima', \n",
    "           'to': 'La Marina 2810, San Miguel, Lima', \n",
    "           'unit': 'k'}  #por defecto devuelve milla, por eso se coloca 'k' para qu edevuelva en km\n",
    "r = requests.get(URL, params=payload)\n",
    "print(f\"GET {r.url}\")\n",
    "\n",
    "if r.status_code == requests.codes.ok:\n",
    "    data = r.json()\n",
    "    \n",
    "    # Guardar en un archivo\n",
    "    with open(\"temp.json\", mode='w') as file:\n",
    "        json.dump(data, file)\n",
    "else:\n",
    "    print(r.status_code)"
   ]
  },
  {
   "cell_type": "markdown",
   "metadata": {},
   "source": [
    "## Ejercicio\n",
    "Escriba un script que pida dos direcciones (inicio y fin) y muestre un listado informativo de la ruta."
   ]
  },
  {
   "cell_type": "code",
   "execution_count": 13,
   "metadata": {},
   "outputs": [
    {
     "name": "stdin",
     "output_type": "stream",
     "text": [
      "Ingrese origen:  Av. Primavera 2310, Santiago de Surco, Lima\n",
      "Ingrese destino:  La Marina 2810, San Miguel, Lima\n"
     ]
    },
    {
     "name": "stdout",
     "output_type": "stream",
     "text": [
      "[1]. Start out going southwest on Avenida Primavera toward Nepeña.\n",
      "[2]. Turn slight right onto ramp.\n",
      "[3]. Merge onto PE-1S/Panamericana Sur.\n",
      "[4]. PE-1S/Panamericana Sur becomes PE-1N.\n",
      "[5]. Take EXIT 3D.\n",
      "[6]. Merge onto Javier Prado Este.\n",
      "[7]. Stay straight to go onto Avenida Javier Prado Oeste.\n",
      "[8]. Turn slight right onto Faustino Sanchez Carrion.\n",
      "[9]. Faustino Sanchez Carrion becomes Avenida La Marina.\n",
      "[10]. AVENIDA LA MARINA.\n"
     ]
    }
   ],
   "source": [
    "URL = \"http://www.mapquestapi.com/directions/v2/route\"\n",
    "\n",
    "_from = input(\"Ingrese origen: \") \n",
    "_to = input(\"Ingrese destino: \")\n",
    "\n",
    "payload = {'key': MAPQUEST_KEY, \n",
    "           'from': _from, \n",
    "           'to': _to, \n",
    "           'unit': 'k'}\n",
    "\n",
    "r = requests.get(URL, params=payload)\n",
    "\n",
    "if r.status_code == requests.codes.ok:\n",
    "    data = r.json()\n",
    "    \n",
    "    # Muestra la ruta del viaje\n",
    "    for idx, item in enumerate(data['route']['legs'][0]['maneuvers'], start=1):\n",
    "        print(f\"[{idx}]. {item['narrative']}\")\n",
    "else:\n",
    "    print(\"ERROR:\", r.status_code)"
   ]
  },
  {
   "cell_type": "markdown",
   "metadata": {},
   "source": [
    "## Cilentes API a servicios\n",
    "Existen clientes que pueden ser importados como modulos en Python que se encargan de gestionar todas las llamadas a los diferentes servicios, sin tener que recurrir a llamadas directas. Algunos ejemplos de estos son:\n",
    "\n",
    "* geopy\n",
    "* folium"
   ]
  },
  {
   "cell_type": "code",
   "execution_count": 16,
   "metadata": {},
   "outputs": [],
   "source": [
    "# pip install geopy\n",
    "from geopy.geocoders import Nominatim  #Nominatim reconoce nombres comerciales\n",
    "\n",
    "geolocator = Nominatim(user_agent=\"myapp\")\n",
    "location = geolocator.geocode(\"Av. Primavera 2310, Santiago de Surco, Lima\")"
   ]
  },
  {
   "cell_type": "code",
   "execution_count": 17,
   "metadata": {},
   "outputs": [
    {
     "data": {
      "text/plain": [
       "'Avenida Primavera, Residencial Los Alamos de Monterrico, Monterrico, Santiago de Surco, Lima, 15023, Peru'"
      ]
     },
     "execution_count": 17,
     "metadata": {},
     "output_type": "execute_result"
    }
   ],
   "source": [
    "location.address"
   ]
  },
  {
   "cell_type": "code",
   "execution_count": 18,
   "metadata": {},
   "outputs": [
    {
     "data": {
      "text/plain": [
       "{'place_id': 94477730,\n",
       " 'licence': 'Data © OpenStreetMap contributors, ODbL 1.0. https://osm.org/copyright',\n",
       " 'osm_type': 'way',\n",
       " 'osm_id': 34334622,\n",
       " 'boundingbox': ['-12.1050241', '-12.102967', '-76.9652532', '-76.9626337'],\n",
       " 'lat': '-12.1038292',\n",
       " 'lon': '-76.9636151',\n",
       " 'display_name': 'Avenida Primavera, Residencial Los Alamos de Monterrico, Monterrico, Santiago de Surco, Lima, 15023, Peru',\n",
       " 'class': 'highway',\n",
       " 'type': 'primary',\n",
       " 'importance': 0.71}"
      ]
     },
     "execution_count": 18,
     "metadata": {},
     "output_type": "execute_result"
    }
   ],
   "source": [
    "location.raw  # devuelve un diccionario con detalles sobre la búsqueda"
   ]
  },
  {
   "cell_type": "code",
   "execution_count": 19,
   "metadata": {},
   "outputs": [],
   "source": [
    "# pip install folium\n",
    "import folium  #modulo que se conecta a un servicio de mapas (liplev?)"
   ]
  },
  {
   "cell_type": "code",
   "execution_count": 20,
   "metadata": {},
   "outputs": [],
   "source": [
    "m = folium.Map(location=[location.latitude, location.longitude],\n",
    "               zoom_start=18)   #instancia un objeto mapa"
   ]
  },
  {
   "cell_type": "code",
   "execution_count": 21,
   "metadata": {},
   "outputs": [
    {
     "data": {
      "text/plain": [
       "<folium.map.Marker at 0x1df05cb7308>"
      ]
     },
     "execution_count": 21,
     "metadata": {},
     "output_type": "execute_result"
    }
   ],
   "source": [
    "#folium.Marker(location=[location.latitude, location.longitude], popup='UPC Primavera', icon=folium.Icon()).add_to(m)\n",
    "\n",
    "folium.Marker(location=[location.latitude, location.longitude], popup=location.raw['display_name'], icon=folium.Icon()).add_to(m)"
   ]
  },
  {
   "cell_type": "code",
   "execution_count": 22,
   "metadata": {
    "scrolled": true
   },
   "outputs": [
    {
     "data": {
      "text/html": [
       "<div style=\"width:100%;\"><div style=\"position:relative;width:100%;height:0;padding-bottom:60%;\"><span style=\"color:#565656\">Make this Notebook Trusted to load map: File -> Trust Notebook</span><iframe src=\"about:blank\" style=\"position:absolute;width:100%;height:100%;left:0;top:0;border:none !important;\" data-html=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 onload=\"this.contentDocument.open();this.contentDocument.write(atob(this.getAttribute('data-html')));this.contentDocument.close();\" allowfullscreen webkitallowfullscreen mozallowfullscreen></iframe></div></div>"
      ],
      "text/plain": [
       "<folium.folium.Map at 0x1df05cd2b08>"
      ]
     },
     "execution_count": 22,
     "metadata": {},
     "output_type": "execute_result"
    }
   ],
   "source": [
    "m"
   ]
  },
  {
   "cell_type": "code",
   "execution_count": null,
   "metadata": {},
   "outputs": [],
   "source": [
    "# map de la amistad"
   ]
  }
 ],
 "metadata": {
  "kernelspec": {
   "display_name": "Python 3",
   "language": "python",
   "name": "python3"
  },
  "language_info": {
   "codemirror_mode": {
    "name": "ipython",
    "version": 3
   },
   "file_extension": ".py",
   "mimetype": "text/x-python",
   "name": "python",
   "nbconvert_exporter": "python",
   "pygments_lexer": "ipython3",
   "version": "3.7.6"
  }
 },
 "nbformat": 4,
 "nbformat_minor": 4
}
