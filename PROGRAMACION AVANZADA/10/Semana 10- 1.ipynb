{
 "cells": [
  {
   "cell_type": "code",
   "execution_count": 1,
   "metadata": {},
   "outputs": [],
   "source": [
    "import threading"
   ]
  },
  {
   "cell_type": "code",
   "execution_count": 4,
   "metadata": {},
   "outputs": [],
   "source": [
    "from time import sleep\n",
    "\n",
    "def func1(t):\n",
    "    for i in range(50):\n",
    "        print(\"*\",end='')\n",
    "        sleep(t)\n",
    "\n",
    "def func2(t):\n",
    "    for i in range(50):\n",
    "        print(\".\",end='')\n",
    "        sleep(t)        "
   ]
  },
  {
   "cell_type": "code",
   "execution_count": 8,
   "metadata": {},
   "outputs": [],
   "source": [
    "#daemon: detecta si el hilo se rompe, si eso pasa la función se cierra\n",
    "th1=threading.Thread(target=func1, args=(0.01,),daemon=True)\n",
    "th2=threading.Thread(target=func2, args=(0.01,),daemon=True)"
   ]
  },
  {
   "cell_type": "code",
   "execution_count": 9,
   "metadata": {},
   "outputs": [
    {
     "name": "stdout",
     "output_type": "stream",
     "text": [
      "*.*.*.*.*.*.*.*.*.*.*.*.*.*.*.*.*.*.*.*.*..*.*.*.*.*.*.*.*.*.*.*.*.*.*.*.*.*.*.*.*.*.*.*.*.*.*.*.*.*"
     ]
    }
   ],
   "source": [
    "th1.start()\n",
    "th2.start()"
   ]
  },
  {
   "cell_type": "code",
   "execution_count": 11,
   "metadata": {},
   "outputs": [],
   "source": [
    "import requests\n",
    "import json"
   ]
  },
  {
   "cell_type": "code",
   "execution_count": 13,
   "metadata": {},
   "outputs": [
    {
     "name": "stdout",
     "output_type": "stream",
     "text": [
      "GET http://api.open-notify.org/iss-pass.json?lat=-12.0500&lon=-77.0500\n",
      "{\n",
      "    \"message\": \"success\",\n",
      "    \"request\": {\n",
      "        \"altitude\": 100,\n",
      "        \"datetime\": 1590506843,\n",
      "        \"latitude\": -12.05,\n",
      "        \"longitude\": -77.05,\n",
      "        \"passes\": 5\n",
      "    },\n",
      "    \"response\": [\n",
      "        {\n",
      "            \"duration\": 568,\n",
      "            \"risetime\": 1590514128\n",
      "        },\n",
      "        {\n",
      "            \"duration\": 595,\n",
      "            \"risetime\": 1590519912\n",
      "        },\n",
      "        {\n",
      "            \"duration\": 602,\n",
      "            \"risetime\": 1590561993\n",
      "        },\n",
      "        {\n",
      "            \"duration\": 570,\n",
      "            \"risetime\": 1590567808\n",
      "        },\n",
      "        {\n",
      "            \"duration\": 460,\n",
      "            \"risetime\": 1590597708\n",
      "        }\n",
      "    ]\n",
      "}\n"
     ]
    }
   ],
   "source": [
    "URL = \"http://api.open-notify.org/iss-pass.json?\"\n",
    "payload={'lat': '-12.0500',\n",
    "         'lon': '-77.0500'}\n",
    "r = requests.get(URL, params=payload)\n",
    "print(f\"GET {r.url}\")\n",
    "\n",
    "if r.status_code == requests.codes.ok:\n",
    "    data = r.json()\n",
    "    \n",
    "    print(json.dumps(data, indent=4))\n",
    "\n",
    "    # Guardar en un archivo\n",
    "    with open(\"temp.json\", mode='w') as file:\n",
    "        json.dump(data, file)\n",
    "else:\n",
    "    print(r.status_code)"
   ]
  },
  {
   "cell_type": "code",
   "execution_count": null,
   "metadata": {},
   "outputs": [],
   "source": []
  }
 ],
 "metadata": {
  "kernelspec": {
   "display_name": "Python 3",
   "language": "python",
   "name": "python3"
  },
  "language_info": {
   "codemirror_mode": {
    "name": "ipython",
    "version": 3
   },
   "file_extension": ".py",
   "mimetype": "text/x-python",
   "name": "python",
   "nbconvert_exporter": "python",
   "pygments_lexer": "ipython3",
   "version": "3.7.6"
  }
 },
 "nbformat": 4,
 "nbformat_minor": 4
}
