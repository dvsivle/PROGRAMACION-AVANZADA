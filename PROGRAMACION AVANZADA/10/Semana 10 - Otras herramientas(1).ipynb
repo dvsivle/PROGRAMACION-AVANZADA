{
 "cells": [
  {
   "cell_type": "markdown",
   "metadata": {},
   "source": [
    "# Threading - Hilos en Python\n",
    "Cuando se ejecuta un programa se crea un hilo de programación (thread). Normalmente, cada programa es ejecutado por el ejecutor (en sistema operativo) y se genera un hilo por cada programa. Sin embargo, Python puede llamar funciones y ser este el ejecutor de las funciones y puede colocar varias funciones en ejecución al mismo tiempo (esto es, habilitar muchos hilos). Esto permite la ejecución de varias tareas al mismo tiempo, un proceso llamado Multithreading. El sistema operativo será el encargado de gestionar los recursos, pero es Python quien define la ejecución de los hilos."
   ]
  },
  {
   "cell_type": "code",
   "execution_count": 1,
   "metadata": {},
   "outputs": [],
   "source": [
    "import threading"
   ]
  },
  {
   "cell_type": "markdown",
   "metadata": {},
   "source": [
    "Se definen dos funciones que seran ejecutadas en diferentes threads"
   ]
  },
  {
   "cell_type": "code",
   "execution_count": 2,
   "metadata": {},
   "outputs": [],
   "source": [
    "from time import sleep\n",
    "\n",
    "def func1(t):\n",
    "    for i in range(50):\n",
    "        print(\"*\", end='')\n",
    "        sleep(t)\n",
    "        \n",
    "def func2(t):\n",
    "    for i in range(50):\n",
    "        print(\".\", end='')\n",
    "        sleep(t)"
   ]
  },
  {
   "cell_type": "code",
   "execution_count": 9,
   "metadata": {},
   "outputs": [
    {
     "name": "stdout",
     "output_type": "stream",
     "text": [
      "**************************************************"
     ]
    }
   ],
   "source": [
    "func1(0.5)"
   ]
  },
  {
   "cell_type": "code",
   "execution_count": 5,
   "metadata": {},
   "outputs": [
    {
     "name": "stdout",
     "output_type": "stream",
     "text": [
      ".................................................."
     ]
    }
   ],
   "source": [
    "func2(0.01)"
   ]
  },
  {
   "cell_type": "markdown",
   "metadata": {},
   "source": [
    "Se definen los threads y se asocian a diferentes funciones. El keyword daemon=True permite eliminar el thread si es que el programa principal se cierra."
   ]
  },
  {
   "cell_type": "code",
   "execution_count": 10,
   "metadata": {},
   "outputs": [
    {
     "name": "stdout",
     "output_type": "stream",
     "text": [
      "*........*......*.......*.......*........*.......*.......*******************************************"
     ]
    }
   ],
   "source": [
    "thr1 = threading.Thread(target=func1, args = (0.1,), daemon=True)\n",
    "thr1.start()\n",
    "\n",
    "thr2 = threading.Thread(target=func2,args=(0.01,), daemon=True)\n",
    "thr2.start()"
   ]
  },
  {
   "cell_type": "markdown",
   "metadata": {},
   "source": [
    "# textwrap - Ajuste de Texto\n",
    "Una librería muy útil es `textwrap`. Esta permite generar un objeto `TextWraper` que envuelve un str dentro de una capsula de tamaño máximo, y retorna una lista con substrings, en donde todos tienen como máximo una longitud definida en el keyword *width* del objeto `TextWrapper`."
   ]
  },
  {
   "cell_type": "code",
   "execution_count": null,
   "metadata": {},
   "outputs": [],
   "source": [
    "# pip install textwrap\n",
    "import textwrap"
   ]
  },
  {
   "cell_type": "code",
   "execution_count": null,
   "metadata": {},
   "outputs": [],
   "source": [
    "my_wrap = textwrap.TextWrapper(width=80)\n",
    "my_text_wrap = my_wrap.wrap(text)\n",
    "print(my_text_wrap)"
   ]
  },
  {
   "cell_type": "code",
   "execution_count": null,
   "metadata": {},
   "outputs": [],
   "source": [
    "for line in my_text_wrap:\n",
    "    print(len(line), \":\", line)"
   ]
  },
  {
   "cell_type": "code",
   "execution_count": null,
   "metadata": {},
   "outputs": [],
   "source": [
    "new_text = \"\\n\".join(my_text_wrap)\n",
    "print(new_text)"
   ]
  },
  {
   "cell_type": "markdown",
   "metadata": {},
   "source": [
    "# ttk.tkinter Notebook\n",
    "Un widget que permite organizar otros widgets dentro de un GUI (como sucede con un Frame o un LabelFrame) es un Notebook. Este control permite definir una area en donde existirán pestañas que tendrán secciones (notebooks) donde se podrán incorporar otros controles gráficos.\n",
    "\n",
    "Se muestra un código donde se tiene un Notebook que contendrá dos pestañas: un Label y un Canvas donde se inertará un gráfico animado utilizando un Thread"
   ]
  },
  {
   "cell_type": "code",
   "execution_count": 11,
   "metadata": {},
   "outputs": [],
   "source": [
    "from random import randint\n",
    "from tkinter import Tk, Label, Canvas\n",
    "from tkinter.ttk import Notebook\n",
    "import threading\n",
    "\n",
    "class App:\n",
    "    def __init__(self, master):\n",
    "        self.master = master\n",
    "        \n",
    "        self.master.title(\"Test\")\n",
    "        self.master.resizable(0, 0)\n",
    "        \n",
    "        # Definicion del Notebook\n",
    "        self.notebook = Notebook(master)\n",
    "        self.notebook.pack()\n",
    "        \n",
    "        # Se coloca un widget dentro del Notebook\n",
    "        self.label = Label(self.notebook, text=\"TABLA DE DATOS\")\n",
    "        self.canvas = Canvas(self.notebook, width=240, height=180, bg='white')\n",
    "        \n",
    "        # Se agrega una pestaña en el Notebook para el widget\n",
    "        self.notebook.add(self.label, text=\"Tabla\")\n",
    "        self.notebook.add(self.canvas, text=\"Grafico\")\n",
    "        \n",
    "        self.x, self.y = 120, 90\n",
    "        self.point = self.canvas.create_rectangle(self.x, self.y, self.x+6, self.y+6, fill='red')\n",
    "                \n",
    "        # Animacion con Threads\n",
    "        self.master.after(10, self.start_animation)\n",
    "        \n",
    "    def start_animation(self):\n",
    "        th = threading.Thread(target=self.animation_loop)\n",
    "        th.start()\n",
    "        \n",
    "    def animation_loop(self):\n",
    "        self.move_point()\n",
    "        \n",
    "    def move_point(self):\n",
    "        move = randint(0, 4)\n",
    "        self.last_x, self.last_y = self.x, self.y\n",
    "        if move == 0:\n",
    "            self.x += 3\n",
    "        elif move == 1:\n",
    "            self.x -= 3\n",
    "        elif move == 2:\n",
    "             self.y += 3\n",
    "        else:\n",
    "             self.y -= 3\n",
    "        \n",
    "        self.canvas.delete(self.point)\n",
    "        self.point = self.canvas.create_rectangle(self.x, self.y, self.x+6, self.y+6, fill='red')\n",
    "        self.line = self.canvas.create_line(self.last_x, self.last_y, self.x, self.y, fill='blue')\n",
    "        self.master.after(100, self.move_point)        \n",
    "        \n",
    "\n",
    "root = Tk()\n",
    "app = App(root)\n",
    "root.mainloop()"
   ]
  },
  {
   "cell_type": "markdown",
   "metadata": {},
   "source": [
    "# DateEntry - Calendario en tkinter\n",
    "La librería para controles gráficos tkinter no tiene un control de ingreso de fecha (objeto datetime). Sin embargo, gracias de Juliette Monsel, se tiene una librería que permite incrustar un objeto calendario y poder generar objetos *datetime*, la librería `tkcalendar`. En la [página del repositorio de la librería](https://pypi.org/project/tkcalendar/) se encuentra la documentación de referencia."
   ]
  },
  {
   "cell_type": "code",
   "execution_count": null,
   "metadata": {},
   "outputs": [],
   "source": [
    "# pip install tkcalendar\n",
    "import tkcalendar"
   ]
  },
  {
   "cell_type": "code",
   "execution_count": null,
   "metadata": {},
   "outputs": [],
   "source": [
    "from tkinter import Tk, Label\n",
    "from tkcalendar import DateEntry\n",
    "from datetime import datetime, timedelta\n",
    "\n",
    "class App:\n",
    "    def __init__(self, master):\n",
    "        master.title(\"Test\")\n",
    "        master.resizable(0, 0)\n",
    "        \n",
    "        self.date_entry = DateEntry(master)\n",
    "        #self.date_entry.set_date(datetime.now() - timedelta(days=7))\n",
    "        self.label = Label(master, font='Arial 12 bold')\n",
    "        \n",
    "        self.date_entry.pack(padx=10, pady=10)\n",
    "        self.label.pack(padx=10, pady=10)\n",
    "        \n",
    "        self.date_entry.bind(\"<<DateEntrySelected>>\", self.print_date)\n",
    "    \n",
    "    def print_date(self, handle):\n",
    "        self.label.config(text=self.date_entry.get())\n",
    "    \n",
    "    \n",
    "root = Tk()\n",
    "app = App(root)\n",
    "root.mainloop()"
   ]
  }
 ],
 "metadata": {
  "kernelspec": {
   "display_name": "Python 3",
   "language": "python",
   "name": "python3"
  },
  "language_info": {
   "codemirror_mode": {
    "name": "ipython",
    "version": 3
   },
   "file_extension": ".py",
   "mimetype": "text/x-python",
   "name": "python",
   "nbconvert_exporter": "python",
   "pygments_lexer": "ipython3",
   "version": "3.7.6"
  }
 },
 "nbformat": 4,
 "nbformat_minor": 4
}
