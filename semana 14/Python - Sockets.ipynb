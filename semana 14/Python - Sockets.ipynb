{
 "cells": [
  {
   "cell_type": "markdown",
   "metadata": {},
   "source": [
    "# Comunicacion de datos\n",
    "\n",
    "**NOTA: El ambiente de Jupyter Notebook no es el espacio ideal de programación donde codificar programas de comunicación. Esta guía es más un documento de referencia con los códigos a ser probados en un ambiente como Spyder o la consola de comandos.**\n",
    "\n",
    "Se puede establecer comunicación de datos entre perifericos utilizando diferentes medios y tecnologías. Python tiene diferentes librerias para poder intercambiar datos con otros elementos, utilizando dos tecnologías de transmisión de datos:\n",
    "\n",
    "* Serial (COM, UART, USB)\n",
    "* Sockets (Ethernet, WiFi)"
   ]
  },
  {
   "cell_type": "markdown",
   "metadata": {},
   "source": [
    "## Socket\n",
    "Un socket es el elemento que utiliza un software para establacer una conexión de red basada en el protocolo IP (ya sea en version 4 o 6) y utilizando protocolos de red (ya sea TCP o UDP). Un socket es una estructura que esta conformada por dos elementos:\n",
    "\n",
    "* Una direccion de red (IP)\n",
    "* Un puerto de comunicación (TCP/UDP)\n",
    "\n",
    "Los métdodos dispoibles en el modulo socket son:\n",
    "\n",
    "* socket()\n",
    "* bind()\n",
    "* listen()\n",
    "* accept()\n",
    "* connect()\n",
    "* connect_ex()\n",
    "* send()\n",
    "* recv()\n",
    "* close()\n",
    "\n",
    "Un socket se crea utilizando un objeto socket definido con la instrucción socket.socket() y especificando la versión de protocolo IP a utilizar y el protocolo de transmision a usar (TCP: socket.SOCK_STREAM, UDP: SOCK_DGRAM). En los ejemplos utilizaremos el protocolo TCP por ser más estable, confiable y seguro.\n",
    "\n",
    "En el siguiente diagrama se resume el proceso de llamada a los sockets (socket API) y el flujo de datos TCP en la comunicación entre nodos (en un esquema cliente-servidor, es decir, el nodo \"servidor\" esta esperando las conexiones de los nodos \"cliente\" para atender sus requerimientos).\n",
    "\n",
    "<img src=\"https://i.imgur.com/zmhwCSA.png\" alt=\"Girl in a jacket\" width=\"700\" height=\"800\">"
   ]
  },
  {
   "cell_type": "markdown",
   "metadata": {},
   "source": [
    "## Echo \"Hola Mundo\n",
    "### Script servidor"
   ]
  },
  {
   "cell_type": "code",
   "execution_count": 1,
   "metadata": {},
   "outputs": [],
   "source": [
    "import socket"
   ]
  },
  {
   "cell_type": "code",
   "execution_count": null,
   "metadata": {},
   "outputs": [],
   "source": [
    "import socket\n",
    "\n",
    "HOST = '127.0.0.1'  # Standard loopback interface address (localhost)\n",
    "PORT = 65432        # Port to listen on (non-privileged ports are > 1023)\n",
    "\n",
    "# AF_INET: Address Family Intenet IP v4\n",
    "# SOCK_STREAM: TCP Protocol\n",
    "\n",
    "with socket.socket(socket.AF_INET, socket.SOCK_STREAM) as s:\n",
    "    # Asocia un Host y Puerto a un Socket\n",
    "    s.bind((HOST, PORT))\n",
    "    # Coloca el socket en modo escucha\n",
    "    s.listen()\n",
    "    # Acepta conexiones entrantes\n",
    "    conn, addr = s.accept()    # <- Blocking function (retorna socket, direccion)\n",
    "\n",
    "    with conn:\n",
    "        print('Conectado a', addr)\n",
    "        while True:\n",
    "            # Recibe datos en un buffer de 1024 bytes\n",
    "            data = conn.recv(1024)\n",
    "            if not data:\n",
    "                break\n",
    "            \n",
    "            # Si hay datos en el buffer, broadcast...\n",
    "            conn.sendall(data)\n",
    "    "
   ]
  },
  {
   "cell_type": "markdown",
   "metadata": {},
   "source": [
    "### Script cliente"
   ]
  },
  {
   "cell_type": "code",
   "execution_count": 2,
   "metadata": {},
   "outputs": [
    {
     "ename": "ConnectionRefusedError",
     "evalue": "[WinError 10061] No se puede establecer una conexión ya que el equipo de destino denegó expresamente dicha conexión",
     "output_type": "error",
     "traceback": [
      "\u001b[1;31m---------------------------------------------------------------------------\u001b[0m",
      "\u001b[1;31mConnectionRefusedError\u001b[0m                    Traceback (most recent call last)",
      "\u001b[1;32m<ipython-input-2-afd6568a28ee>\u001b[0m in \u001b[0;36m<module>\u001b[1;34m\u001b[0m\n\u001b[0;32m      6\u001b[0m \u001b[1;32mwith\u001b[0m \u001b[0msocket\u001b[0m\u001b[1;33m.\u001b[0m\u001b[0msocket\u001b[0m\u001b[1;33m(\u001b[0m\u001b[0msocket\u001b[0m\u001b[1;33m.\u001b[0m\u001b[0mAF_INET\u001b[0m\u001b[1;33m,\u001b[0m \u001b[0msocket\u001b[0m\u001b[1;33m.\u001b[0m\u001b[0mSOCK_STREAM\u001b[0m\u001b[1;33m)\u001b[0m \u001b[1;32mas\u001b[0m \u001b[0ms\u001b[0m\u001b[1;33m:\u001b[0m\u001b[1;33m\u001b[0m\u001b[1;33m\u001b[0m\u001b[0m\n\u001b[0;32m      7\u001b[0m     \u001b[1;31m# Utilizar el socket para conectarse a una direccion y puerto\u001b[0m\u001b[1;33m\u001b[0m\u001b[1;33m\u001b[0m\u001b[1;33m\u001b[0m\u001b[0m\n\u001b[1;32m----> 8\u001b[1;33m     \u001b[0ms\u001b[0m\u001b[1;33m.\u001b[0m\u001b[0mconnect\u001b[0m\u001b[1;33m(\u001b[0m\u001b[1;33m(\u001b[0m\u001b[0mHOST\u001b[0m\u001b[1;33m,\u001b[0m \u001b[0mPORT\u001b[0m\u001b[1;33m)\u001b[0m\u001b[1;33m)\u001b[0m\u001b[1;33m\u001b[0m\u001b[1;33m\u001b[0m\u001b[0m\n\u001b[0m\u001b[0;32m      9\u001b[0m     \u001b[1;31m# Enviar data binaria\u001b[0m\u001b[1;33m\u001b[0m\u001b[1;33m\u001b[0m\u001b[1;33m\u001b[0m\u001b[0m\n\u001b[0;32m     10\u001b[0m     \u001b[0ms\u001b[0m\u001b[1;33m.\u001b[0m\u001b[0msendall\u001b[0m\u001b[1;33m(\u001b[0m\u001b[1;34mb'Hola mundo'\u001b[0m\u001b[1;33m)\u001b[0m\u001b[1;33m\u001b[0m\u001b[1;33m\u001b[0m\u001b[0m\n",
      "\u001b[1;31mConnectionRefusedError\u001b[0m: [WinError 10061] No se puede establecer una conexión ya que el equipo de destino denegó expresamente dicha conexión"
     ]
    }
   ],
   "source": [
    "import socket\n",
    "\n",
    "HOST = '127.0.0.1'  # The server's hostname or IP address\n",
    "PORT = 65432        # The port used by the server\n",
    "\n",
    "with socket.socket(socket.AF_INET, socket.SOCK_STREAM) as s:\n",
    "    # Utilizar el socket para conectarse a una direccion y puerto\n",
    "    s.connect((HOST, PORT))\n",
    "    # Enviar data binaria\n",
    "    s.sendall(b'Hola mundo')\n",
    "    # Recibir datos en un buffer de 1024\n",
    "    data = s.recv(1024)\n",
    "\n",
    "print('Recibido', repr(data))"
   ]
  },
  {
   "cell_type": "markdown",
   "metadata": {},
   "source": [
    "## Intrercambio de información (Cliente - Sercvidor)\n",
    "Las comunicaciones en red se sirven de un modelo llamado Cliente-Servidor, donde los Clientes son los elementos que se \n",
    "comunicarán entre si, mientras que el Servidor será el intermediario en el intercambio de información entre los Clientes. Para esto sera necesario que el Servidor pueda recibir la información del Cliente y este enviarla de forma inmediata.\n",
    "\n",
    "### Script Servidor"
   ]
  },
  {
   "cell_type": "code",
   "execution_count": null,
   "metadata": {},
   "outputs": [],
   "source": [
    "import socket\n",
    "\n",
    "HOST = '127.0.0.1'  # Standard loopback interface address (localhost)\n",
    "PORT = 65432        # Port to listen on (non-privileged ports are > 1023)\n",
    "\n",
    "with socket.socket(socket.AF_INET, socket.SOCK_STREAM) as s:\n",
    "    s.bind((HOST, PORT))\n",
    "    s.listen()\n",
    "    conn, addr = s.accept()\n",
    "    \n",
    "    try:\n",
    "        with conn:\n",
    "            print(\"Conectado a\", addr)\n",
    "            while True:\n",
    "                data = conn.recv(1)\n",
    "                \n",
    "                if not data:\n",
    "                    break\n",
    "                else:\n",
    "                    strData = data.decode('utf-8')\n",
    "                    print(strData)\n",
    "                          \n",
    "    except KeyboardInterrupt:\n",
    "        pass\n",
    "    \n",
    "print(\"Cerrando conexion\")"
   ]
  },
  {
   "cell_type": "markdown",
   "metadata": {},
   "source": [
    "### Script Cliente"
   ]
  },
  {
   "cell_type": "code",
   "execution_count": null,
   "metadata": {},
   "outputs": [],
   "source": [
    "import socket\n",
    "import time\n",
    "\n",
    "HOST = '127.0.0.1'  # The server's hostname or IP address\n",
    "PORT = 65432        # The port used by the server\n",
    "\n",
    "with socket.socket(socket.AF_INET, socket.SOCK_STREAM) as s:\n",
    "    s.connect((HOST, PORT))\n",
    "    \n",
    "    for i in range(1, 11):\n",
    "        strData = str(i)\n",
    "        data = strData.encode('utf-8')\n",
    "        s.send(data)\n",
    "        \n",
    "        time.sleep(1)"
   ]
  },
  {
   "cell_type": "markdown",
   "metadata": {},
   "source": [
    "## Header de comunicación: Agregando encabezado a la transmisión para la señalización\n",
    "En el ejemplo anterior, se puede ver que el servidor recibe los datos de forma inmediata 1 byte a la vez, lo que hace que se tomen los bytes de manera rapida pero será necesario recomponer el mensaje original. Para obtener velocidad y control del mensaje, lo ideal es que el buffer del Server será variable y su tamaño este en función de mensaje a ser enviado por el Cliente\n",
    "\n",
    "Definiremos un protocolo de comunicación que incluirá un Header de 10 catacteres (bytes), en donde se especificará en número de caracteres (bytes) que serán enviados al Server.\n",
    "\n",
    "### Script Servidor"
   ]
  },
  {
   "cell_type": "code",
   "execution_count": null,
   "metadata": {},
   "outputs": [],
   "source": [
    "import socket\n",
    "\n",
    "HOST = '127.0.0.1'  # Standard loopback interface address (localhost)\n",
    "PORT = 65432        # Port to listen on (non-privileged ports are > 1023)\n",
    "HEADER = 10\n",
    "\n",
    "with socket.socket(socket.AF_INET, socket.SOCK_STREAM) as s:\n",
    "    s.bind((HOST, PORT))\n",
    "    s.listen()\n",
    "    conn, addr = s.accept()\n",
    "    \n",
    "    try:\n",
    "        with conn:\n",
    "            print(\"Conectado a\", addr)\n",
    "            while True:\n",
    "                data_len = conn.recv(HEADER)\n",
    "                \n",
    "                if not data_len:\n",
    "                    break\n",
    "                else:\n",
    "                    data = conn.recv(int(data_len))\n",
    "                    strData = data.decode('utf-8')\n",
    "                    print(strData)\n",
    "                          \n",
    "    except KeyboardInterrupt:\n",
    "        pass\n",
    "    \n",
    "print(\"\\nCerrando conexion\")"
   ]
  },
  {
   "cell_type": "markdown",
   "metadata": {},
   "source": [
    "### Script Cliente"
   ]
  },
  {
   "cell_type": "code",
   "execution_count": null,
   "metadata": {},
   "outputs": [],
   "source": [
    "import socket\n",
    "import time\n",
    "\n",
    "HOST = '127.0.0.1'  # The server's hostname or IP address\n",
    "PORT = 65432        # The port used by the server\n",
    "HEADER = 10\n",
    "\n",
    "with socket.socket(socket.AF_INET, socket.SOCK_STREAM) as s:\n",
    "    s.connect((HOST, PORT))\n",
    "    \n",
    "    names = ['Maria',\n",
    "             'Rodrigo',\n",
    "             '',\n",
    "             'Juan',\n",
    "             'Nabucodonosor',\n",
    "             'Sandro']\n",
    "    \n",
    "    for i in names:\n",
    "        # FORMATO: <HEADER><DATA>\n",
    "        strData = str(i)        \n",
    "        data_len = str(len(strData))\n",
    "        \n",
    "        data = f\"{data_len:<{HEADER}}{strData}\".encode('utf-8')\n",
    "        \n",
    "        s.send(data)\n",
    "        \n",
    "        time.sleep(1)"
   ]
  },
  {
   "cell_type": "markdown",
   "metadata": {},
   "source": [
    "## Serialización: el módulo `pickle`\n",
    "El módulo `pickle` permite \"serializar\" un dato (mashalling), esto es convertír un objeto (como puede ser una lista, un diccionario, un arreglo, un archivo, etc) en una trama que tal forma que pueda enviarse por un canal de comunicación.\n",
    "\n",
    "### Script Servidor"
   ]
  },
  {
   "cell_type": "code",
   "execution_count": null,
   "metadata": {},
   "outputs": [],
   "source": [
    "import socket\n",
    "import pickle\n",
    "\n",
    "HOST = '127.0.0.1'  # Standard loopback interface address (localhost)\n",
    "PORT = 65432        # Port to listen on (non-privileged ports are > 1023)\n",
    "HEADER = 10\n",
    "\n",
    "with socket.socket(socket.AF_INET, socket.SOCK_STREAM) as s:\n",
    "    s.bind((HOST, PORT))\n",
    "    s.listen()\n",
    "    conn, addr = s.accept()\n",
    "    +\n",
    "    try:\n",
    "        with conn:\n",
    "            print(\"Conectado a\", addr)\n",
    "            while True:\n",
    "                data_len = conn.recv(HEADER)\n",
    "              \n",
    "                if not data_len:\n",
    "                    break\n",
    "                else:\n",
    "                    data = b''\n",
    "                    data += conn.recv(int(data_len))\n",
    "                    data_deserial = pickle.loads(data)\n",
    "                    print(data_deserial)\n",
    "                          \n",
    "    except KeyboardInterrupt:\n",
    "        pass\n",
    "    \n",
    "print(\"\\nCerrando conexion\")"
   ]
  },
  {
   "cell_type": "markdown",
   "metadata": {},
   "source": [
    "### Script Cliente"
   ]
  },
  {
   "cell_type": "code",
   "execution_count": null,
   "metadata": {},
   "outputs": [],
   "source": [
    "import socket\n",
    "import pickle\n",
    "\n",
    "HOST = '127.0.0.1'  # The server's hostname or IP address\n",
    "PORT = 65432        # The port used by the server\n",
    "HEADER = 10\n",
    "\n",
    "with socket.socket(socket.AF_INET, socket.SOCK_STREAM) as s:\n",
    "    s.connect((HOST, PORT))\n",
    "    \n",
    "    names = [{'nombre': 'Elvio', 'apellido': 'Lado'}, \n",
    "             ('ene', 'feb', 'mar'), \n",
    "             1+3j]\n",
    "    \n",
    "    data_serial = pickle.dumps(names)   # dumps: vuelca a una trama binaria\n",
    "    \n",
    "    # FORMATO: <HEADER><DATA>\n",
    "    data_len = str(len(data_serial))\n",
    "        \n",
    "    data = bytes(f\"{data_len:<{HEADER}}\", 'utf-8') + data_serial\n",
    "    print(data)\n",
    "    s.send(data)"
   ]
  }
 ],
 "metadata": {
  "kernelspec": {
   "display_name": "Python 3",
   "language": "python",
   "name": "python3"
  },
  "language_info": {
   "codemirror_mode": {
    "name": "ipython",
    "version": 3
   },
   "file_extension": ".py",
   "mimetype": "text/x-python",
   "name": "python",
   "nbconvert_exporter": "python",
   "pygments_lexer": "ipython3",
   "version": "3.7.6"
  }
 },
 "nbformat": 4,
 "nbformat_minor": 4
}
