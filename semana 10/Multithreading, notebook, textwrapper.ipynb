{
 "cells": [
  {
   "cell_type": "markdown",
   "metadata": {},
   "source": [
    "# Multithreading (multihilos)\n",
    "utilizada para ejecutar varios progrmas a la vez, o manterner uno abierto mientras se trabaja con otro"
   ]
  },
  {
   "cell_type": "code",
   "execution_count": 1,
   "metadata": {},
   "outputs": [],
   "source": [
    "import threading"
   ]
  },
  {
   "cell_type": "code",
   "execution_count": 2,
   "metadata": {},
   "outputs": [],
   "source": [
    "from time import sleep\n",
    "\n",
    "def func1(t):\n",
    "    for i in range(50):\n",
    "        print(\"*\", end='')\n",
    "        sleep(t)\n",
    "        \n",
    "def func2(t):\n",
    "    for i in range(50):\n",
    "        print(\".\", end='')\n",
    "        sleep(t)\n",
    "                \n",
    "        "
   ]
  },
  {
   "cell_type": "code",
   "execution_count": 3,
   "metadata": {},
   "outputs": [],
   "source": [
    "th1 = threading.Thread(target=func1, args=(0.01,), daemon=True)\n",
    "th2 = threading.Thread(target=func2, args=(0.01,), daemon=True)\n",
    "\n",
    "#target: es lo que se va amontar en el hilo\n",
    "#args: (argumento de la funcion) siempre recibe una tupla como dato, aunque tenga un solo elemento\n",
    "#daemon: detecta si el hilo se rompe, si eso pasa la función se cierra"
   ]
  },
  {
   "cell_type": "code",
   "execution_count": 4,
   "metadata": {},
   "outputs": [
    {
     "name": "stdout",
     "output_type": "stream",
     "text": [
      "*.*.*..**..**.*.*..*.*.*.**..**.*..**..*.**..**..*.**.*.*.*.*..*.**.*.*..**.*..*.**..**.*..*.**..*.*"
     ]
    }
   ],
   "source": [
    "th1.start()\n",
    "th2.start()"
   ]
  },
  {
   "cell_type": "markdown",
   "metadata": {},
   "source": [
    "# textwrapper - Ajuste de texto"
   ]
  },
  {
   "cell_type": "code",
   "execution_count": 7,
   "metadata": {},
   "outputs": [],
   "source": [
    "import textwrap"
   ]
  },
  {
   "cell_type": "code",
   "execution_count": 16,
   "metadata": {},
   "outputs": [
    {
     "name": "stdout",
     "output_type": "stream",
     "text": [
      "['La oía coger el bolso y correr hasta la puerta de entrada antes de lanzarse por', 'las escaleras, como si su apremio fuese a cambiar algo mi situación. Porque yo', 'me había dado cuenta por fin de la gravedad del mal que me roía: escribir un', 'libro partiendo de la nada me había parecido muy fácil pero, ahora que estaba en', 'la cima, ahora que debía asumir mi talento y repetir el agotador camino hacia el', 'éxito que es la escritura de una buena novela, ya no me sentía capaz.']\n"
     ]
    }
   ],
   "source": [
    "text= \"La oía coger el bolso y correr hasta la puerta de entrada antes de lanzarse por las escaleras, como si su apremio fuese a cambiar algo mi situación. Porque yo me había dado cuenta por fin de la gravedad del mal que me roía: escribir un libro partiendo de la nada me había parecido muy fácil pero, ahora que estaba en la cima, ahora que debía asumir mi talento y repetir el agotador camino hacia el éxito que es la escritura de una buena novela, ya no me sentía capaz.\"\n",
    "\n",
    "my_wrap= textwrap.TextWrapper(width=80)\n",
    "my_text_wrap= my_wrap.wrap(text)  #devuelve una lista de strings de 80 caracteres cada uno\n",
    "print(my_text_wrap)\n"
   ]
  },
  {
   "cell_type": "code",
   "execution_count": 17,
   "metadata": {},
   "outputs": [
    {
     "name": "stdout",
     "output_type": "stream",
     "text": [
      "La oía coger el bolso y correr hasta la puerta de entrada antes de lanzarse por\n",
      "las escaleras, como si su apremio fuese a cambiar algo mi situación. Porque yo\n",
      "me había dado cuenta por fin de la gravedad del mal que me roía: escribir un\n",
      "libro partiendo de la nada me había parecido muy fácil pero, ahora que estaba en\n",
      "la cima, ahora que debía asumir mi talento y repetir el agotador camino hacia el\n",
      "éxito que es la escritura de una buena novela, ya no me sentía capaz.\n"
     ]
    }
   ],
   "source": [
    "for line in my_text_wrap:\n",
    "    print(line)"
   ]
  },
  {
   "cell_type": "code",
   "execution_count": 18,
   "metadata": {},
   "outputs": [
    {
     "name": "stdout",
     "output_type": "stream",
     "text": [
      "La oía coger el bolso y correr hasta la puerta de entrada antes de lanzarse por\n",
      "las escaleras, como si su apremio fuese a cambiar algo mi situación. Porque yo\n",
      "me había dado cuenta por fin de la gravedad del mal que me roía: escribir un\n",
      "libro partiendo de la nada me había parecido muy fácil pero, ahora que estaba en\n",
      "la cima, ahora que debía asumir mi talento y repetir el agotador camino hacia el\n",
      "éxito que es la escritura de una buena novela, ya no me sentía capaz.\n"
     ]
    }
   ],
   "source": [
    "new_text = '\\n'.join(my_text_wrap) \n",
    "print(new_text)\n"
   ]
  },
  {
   "cell_type": "markdown",
   "metadata": {},
   "source": [
    "# tt.Notebook (Frame)\n",
    "\n",
    "Un Notebook es un frame apilable con pestañas en las parte superior, utilizado para colocar cosas en un espacio pequeño"
   ]
  },
  {
   "cell_type": "code",
   "execution_count": 2,
   "metadata": {},
   "outputs": [],
   "source": [
    "from random import randint\n",
    "from tkinter import Tk, Label, Canvas\n",
    "from tkinter.ttk import Notebook\n",
    "import threading\n",
    "\n",
    "class App:\n",
    "    def __init__(self, master):\n",
    "        self.master = master\n",
    "        \n",
    "        self.master.title(\"Test\")\n",
    "        self.master.resizable(0,0)\n",
    "        \n",
    "        #Definición de los Notebooks\n",
    "        self.notebook = Notebook(master)\n",
    "        self.notebook.pack()\n",
    "        \n",
    "        # widgets en los notebooks\n",
    "        self.label = Label(self.notebook, text='tabña de datos')\n",
    "        self.canvas = Canvas(self.notebook,width=240,height = 240,bg='white')\n",
    "        \n",
    "        \n",
    "        # Se agregan pestañas en el Notebook\n",
    "        self.notebook.add(self.label,text  = 'Tabla')\n",
    "        self.notebook.add(self.canvas, text = 'Gráfico')\n",
    "        \n",
    "        self.x, self.y = 120, 90\n",
    "        self.point = self.canvas.create_rectangle(self.x,self.y,self.x+6, self.y+6,fill='red')\n",
    "        \n",
    "        self.master.after(10, self.start_animation)\n",
    "        \n",
    "    def start_animation(self):\n",
    "        th = threading.Thread(target=self.move_point, daemon=True)\n",
    "        th.start()\n",
    "        \n",
    "        \n",
    "    def move_point(self):\n",
    "        move = randint(0,4)\n",
    "        self.last_x,self.last_y = self.x, self.y\n",
    "        \n",
    "        if move ==0:\n",
    "            self.x += 3\n",
    "        elif move == 1:\n",
    "            self.x -= 3\n",
    "        elif move == 2:\n",
    "            self.y += 3\n",
    "        else:\n",
    "            self.y -= 3\n",
    "            \n",
    "        self.canvas.delete(self.point)\n",
    "        self.point =self.canvas.create_rectangle(self.x, self.y,self.x+6,self.y+6, fill='red')\n",
    "        self.line =self.canvas.create_line(self.last_x, self.last_y,self.x,self.y, fill='blue')\n",
    "        self.master.after(100, self.move_point)\n",
    "        \n",
    "\n",
    "root = Tk()\n",
    "app = App(root)\n",
    "root.mainloop()"
   ]
  },
  {
   "cell_type": "markdown",
   "metadata": {},
   "source": [
    "# DateEntry - Calendario en tkinter"
   ]
  },
  {
   "cell_type": "code",
   "execution_count": 34,
   "metadata": {},
   "outputs": [],
   "source": [
    "import tkcalendar"
   ]
  },
  {
   "cell_type": "code",
   "execution_count": 5,
   "metadata": {},
   "outputs": [
    {
     "name": "stdout",
     "output_type": "stream",
     "text": [
      "6/16/20\n"
     ]
    }
   ],
   "source": [
    "from tkinter import Tk, Label\n",
    "from tkcalendar import DateEntry\n",
    "from datetime import datetime, timedelta\n",
    "\n",
    "class App:\n",
    "    def __init__(self, master):\n",
    "        self.master = master\n",
    "        \n",
    "        self.master.title(\"Test\")\n",
    "        self.master.resizable(0,0)\n",
    "        \n",
    "        self.date_entry = DateEntry(self.master)\n",
    "        self.label = Label(self.master, font='Arial 12 bold')\n",
    "        \n",
    "        self.date_entry.pack(padx=10, pady=10)\n",
    "        self.label.pack(padx=10, pady=10)\n",
    "        \n",
    "        self.date_entry.bind(\"<<DateEntrySelected>>\", self.print_date)\n",
    "        \n",
    "    def print_date(self, event):\n",
    "        self.label.config(text=self.date_entry.get())\n",
    "        print(self.date_entry.get())\n",
    "\n",
    "root = Tk()\n",
    "app = App(root)\n",
    "root.mainloop()"
   ]
  },
  {
   "cell_type": "code",
   "execution_count": 9,
   "metadata": {},
   "outputs": [],
   "source": [
    "from tkinter import Tk, Label\n",
    "from tkcalendar import DateEntry\n",
    "from datetime import datetime, timedelta\n",
    "\n",
    "class App:\n",
    "    def __init__(self, master):\n",
    "        self.master = master\n",
    "        \n",
    "        self.master.title(\"Test\")\n",
    "        self.master.resizable(0,0)\n",
    "        \n",
    "        self.date_entry = DateEntry(self.master)\n",
    "        self.date_entry.set_date(datetime.now() - timedelta(days=7))\n",
    "        self.label = Label(self.master, font='Arial 12 bold')\n",
    "        \n",
    "        self.date_entry.pack(padx=10, pady=10)\n",
    "        self.label.pack(padx=10, pady=10)\n",
    "        \n",
    "        self.date_entry.bind(\"<<DateEntrySelected>>\", self.print_date)\n",
    "        \n",
    "    def print_date(self, event):\n",
    "        self.label.config(text=self.date_entry.get())\n",
    "\n",
    "root = Tk()\n",
    "app = App(root)\n",
    "root.mainloop()"
   ]
  },
  {
   "cell_type": "code",
   "execution_count": null,
   "metadata": {},
   "outputs": [],
   "source": []
  }
 ],
 "metadata": {
  "kernelspec": {
   "display_name": "Python 3",
   "language": "python",
   "name": "python3"
  },
  "language_info": {
   "codemirror_mode": {
    "name": "ipython",
    "version": 3
   },
   "file_extension": ".py",
   "mimetype": "text/x-python",
   "name": "python",
   "nbconvert_exporter": "python",
   "pygments_lexer": "ipython3",
   "version": "3.7.6"
  }
 },
 "nbformat": 4,
 "nbformat_minor": 4
}
