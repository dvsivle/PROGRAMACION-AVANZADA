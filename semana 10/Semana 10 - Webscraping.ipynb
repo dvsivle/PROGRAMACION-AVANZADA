{
 "cells": [
  {
   "cell_type": "markdown",
   "metadata": {},
   "source": [
    "# Web Scraping - BeautifulSoup\n",
    "En muchas oportunidades, no se tiene un archivo de base de datos o un REST API JSON o no es posible descargar información como XLM, CSV o JSON file: la información esta en la misma página web. Por lo tanto, será necesario leer y análizar el contenido de la web, \"escarbando\" el código HTML en busqueda de patrones de búsqueda, basado en las etiquetas HTML. A esta proceso se le conoce como Web Scraping"
   ]
  },
  {
   "cell_type": "code",
   "execution_count": 1,
   "metadata": {},
   "outputs": [],
   "source": [
    "# pip install bs4\n",
    "# pip install lxml\n",
    "from bs4 import BeautifulSoup\n",
    "import requests"
   ]
  },
  {
   "cell_type": "markdown",
   "metadata": {},
   "source": [
    "Considere la siguiente pagina web de referencia (main.html):"
   ]
  },
  {
   "cell_type": "markdown",
   "metadata": {},
   "source": [
    "<!DOCTYPE html>\n",
    "<html class=\"no-js\" lang=\"\">\n",
    " <head>\n",
    "  <title>\n",
    "   Test - Pagina Web\n",
    "  </title>\n",
    "  <meta charset=\"utf-8\"/>\n",
    "  <link href=\"css/normalize.css\" rel=\"stylesheet\"/>\n",
    "  <link href=\"css/main.css\" rel=\"stylesheet\"/>\n",
    " </head>\n",
    " <body>\n",
    "  <h1 id=\"site_title\">\n",
    "   Test Website\n",
    "  </h1>\n",
    "  <hr/>\n",
    "  <div class=\"article\">\n",
    "   <h2>\n",
    "    <a href=\"article_1.html\">\n",
    "     Articulo 1 Encabezado\n",
    "    </a>\n",
    "   </h2>\n",
    "   <p>\n",
    "    Este es el resumen del articulo 1\n",
    "   </p>\n",
    "  </div>\n",
    "  <hr/>\n",
    "  <div class=\"article\">\n",
    "   <h2>\n",
    "    <a href=\"article_2.html\">\n",
    "     Articulo 2 Encabezado\n",
    "    </a>\n",
    "   </h2>\n",
    "   <p>\n",
    "    Este es del resumen del articulo 2\n",
    "   </p>\n",
    "  </div>\n",
    "  <hr/>\n",
    "  <div class=\"footer\">\n",
    "   <p>\n",
    "    Informacion de pie de pagina\n",
    "   </p>\n",
    "  </div>\n",
    "  <script src=\"js/vendor/modernizr-3.5.0.min.js\">\n",
    "  </script>\n",
    "  <script src=\"js/plugins.js\">\n",
    "  </script>\n",
    "  <script src=\"js/main.js\">\n",
    "  </script>\n",
    " </body>\n",
    "</html>"
   ]
  },
  {
   "cell_type": "code",
   "execution_count": 2,
   "metadata": {
    "scrolled": true
   },
   "outputs": [
    {
     "ename": "FileNotFoundError",
     "evalue": "[Errno 2] No such file or directory: 'main.html'",
     "output_type": "error",
     "traceback": [
      "\u001b[1;31m---------------------------------------------------------------------------\u001b[0m",
      "\u001b[1;31mFileNotFoundError\u001b[0m                         Traceback (most recent call last)",
      "\u001b[1;32m<ipython-input-2-3b14c728b49b>\u001b[0m in \u001b[0;36m<module>\u001b[1;34m\u001b[0m\n\u001b[1;32m----> 1\u001b[1;33m \u001b[1;32mwith\u001b[0m \u001b[0mopen\u001b[0m\u001b[1;33m(\u001b[0m\u001b[1;34m\"main.html\"\u001b[0m\u001b[1;33m)\u001b[0m \u001b[1;32mas\u001b[0m \u001b[0mhtml_file\u001b[0m\u001b[1;33m:\u001b[0m\u001b[1;33m\u001b[0m\u001b[1;33m\u001b[0m\u001b[0m\n\u001b[0m\u001b[0;32m      2\u001b[0m     \u001b[0msoup\u001b[0m \u001b[1;33m=\u001b[0m \u001b[0mBeautifulSoup\u001b[0m\u001b[1;33m(\u001b[0m\u001b[0mhtml_file\u001b[0m\u001b[1;33m,\u001b[0m \u001b[1;34m'lxml'\u001b[0m\u001b[1;33m)\u001b[0m\u001b[1;33m\u001b[0m\u001b[1;33m\u001b[0m\u001b[0m\n\u001b[0;32m      3\u001b[0m \u001b[1;33m\u001b[0m\u001b[0m\n\u001b[0;32m      4\u001b[0m \u001b[1;31m#print(soup)\u001b[0m\u001b[1;33m\u001b[0m\u001b[1;33m\u001b[0m\u001b[1;33m\u001b[0m\u001b[0m\n\u001b[0;32m      5\u001b[0m \u001b[0mprint\u001b[0m\u001b[1;33m(\u001b[0m\u001b[0msoup\u001b[0m\u001b[1;33m.\u001b[0m\u001b[0mprettify\u001b[0m\u001b[1;33m(\u001b[0m\u001b[1;33m)\u001b[0m\u001b[1;33m)\u001b[0m\u001b[1;33m\u001b[0m\u001b[1;33m\u001b[0m\u001b[0m\n",
      "\u001b[1;31mFileNotFoundError\u001b[0m: [Errno 2] No such file or directory: 'main.html'"
     ]
    }
   ],
   "source": [
    "with open(\"main.html\") as html_file:\n",
    "    soup = BeautifulSoup(html_file, 'lxml')\n",
    "    \n",
    "#print(soup)\n",
    "print(soup.prettify())"
   ]
  },
  {
   "cell_type": "code",
   "execution_count": 3,
   "metadata": {},
   "outputs": [
    {
     "ename": "NameError",
     "evalue": "name 'soup' is not defined",
     "output_type": "error",
     "traceback": [
      "\u001b[1;31m---------------------------------------------------------------------------\u001b[0m",
      "\u001b[1;31mNameError\u001b[0m                                 Traceback (most recent call last)",
      "\u001b[1;32m<ipython-input-3-020fbb4f4406>\u001b[0m in \u001b[0;36m<module>\u001b[1;34m\u001b[0m\n\u001b[1;32m----> 1\u001b[1;33m \u001b[0msoup\u001b[0m\u001b[1;33m.\u001b[0m\u001b[0mtitle\u001b[0m\u001b[1;33m.\u001b[0m\u001b[0mtext\u001b[0m\u001b[1;33m\u001b[0m\u001b[1;33m\u001b[0m\u001b[0m\n\u001b[0m",
      "\u001b[1;31mNameError\u001b[0m: name 'soup' is not defined"
     ]
    }
   ],
   "source": [
    "soup.title.text"
   ]
  },
  {
   "cell_type": "code",
   "execution_count": 4,
   "metadata": {},
   "outputs": [
    {
     "ename": "NameError",
     "evalue": "name 'soup' is not defined",
     "output_type": "error",
     "traceback": [
      "\u001b[1;31m---------------------------------------------------------------------------\u001b[0m",
      "\u001b[1;31mNameError\u001b[0m                                 Traceback (most recent call last)",
      "\u001b[1;32m<ipython-input-4-6b4d6e6cbf5e>\u001b[0m in \u001b[0;36m<module>\u001b[1;34m\u001b[0m\n\u001b[1;32m----> 1\u001b[1;33m \u001b[0msoup\u001b[0m\u001b[1;33m.\u001b[0m\u001b[0mbody\u001b[0m\u001b[1;33m.\u001b[0m\u001b[0mtext\u001b[0m\u001b[1;33m\u001b[0m\u001b[1;33m\u001b[0m\u001b[0m\n\u001b[0m",
      "\u001b[1;31mNameError\u001b[0m: name 'soup' is not defined"
     ]
    }
   ],
   "source": [
    "soup.body.text"
   ]
  },
  {
   "cell_type": "code",
   "execution_count": null,
   "metadata": {},
   "outputs": [],
   "source": [
    "soup.body.p"
   ]
  },
  {
   "cell_type": "code",
   "execution_count": null,
   "metadata": {},
   "outputs": [],
   "source": [
    "soup.a['href']"
   ]
  },
  {
   "cell_type": "code",
   "execution_count": null,
   "metadata": {},
   "outputs": [],
   "source": [
    "soup.div"
   ]
  },
  {
   "cell_type": "code",
   "execution_count": null,
   "metadata": {},
   "outputs": [],
   "source": [
    "article = soup.find('div', attrs={'class':'article'})\n",
    "print(article.p.text)"
   ]
  },
  {
   "cell_type": "code",
   "execution_count": null,
   "metadata": {},
   "outputs": [],
   "source": [
    "for article in soup.find_all('div', {'class':'article'}):\n",
    "    print(article.p.text)"
   ]
  },
  {
   "cell_type": "markdown",
   "metadata": {},
   "source": [
    "## Ejemplo de una script que utiliza la Web como parte de la aplicacion (eComerce)"
   ]
  },
  {
   "cell_type": "code",
   "execution_count": 4,
   "metadata": {},
   "outputs": [
    {
     "name": "stdout",
     "output_type": "stream",
     "text": [
      "Mandarina HAPPY FRUT Malla 2Kg\n",
      "S/ 4.99\n"
     ]
    }
   ],
   "source": [
    "from bs4 import BeautifulSoup\n",
    "import requests\n",
    "\n",
    "url = \"https://www.plazavea.com.pe/frutas-y-verduras\"\n",
    "r = requests.get(url)\n",
    "soup = BeautifulSoup(r.text, 'lxml')\n",
    "    \n",
    "data = soup.find('a', attrs={'class': 'Showcase__name'})\n",
    "print(data.text.strip())\n",
    "\n",
    "data = soup.find('div', attrs={'class': 'Showcase__priceBox__row'})\n",
    "print(data.text.strip())"
   ]
  },
  {
   "cell_type": "markdown",
   "metadata": {},
   "source": [
    "## Aplicacion de Analisis de Precios en varias tiendas"
   ]
  },
  {
   "cell_type": "code",
   "execution_count": 5,
   "metadata": {},
   "outputs": [
    {
     "ename": "NameError",
     "evalue": "name 'pd' is not defined",
     "output_type": "error",
     "traceback": [
      "\u001b[1;31m---------------------------------------------------------------------------\u001b[0m",
      "\u001b[1;31mNameError\u001b[0m                                 Traceback (most recent call last)",
      "\u001b[1;32m<ipython-input-5-9f8e0d496633>\u001b[0m in \u001b[0;36m<module>\u001b[1;34m\u001b[0m\n\u001b[0;32m      9\u001b[0m     \u001b[0mdata\u001b[0m\u001b[1;33m.\u001b[0m\u001b[0mappend\u001b[0m\u001b[1;33m(\u001b[0m\u001b[1;33m[\u001b[0m\u001b[0mname\u001b[0m\u001b[1;33m.\u001b[0m\u001b[0mtext\u001b[0m\u001b[1;33m,\u001b[0m \u001b[0mprice\u001b[0m\u001b[1;33m.\u001b[0m\u001b[0mtext\u001b[0m\u001b[1;33m]\u001b[0m\u001b[1;33m)\u001b[0m\u001b[1;33m\u001b[0m\u001b[1;33m\u001b[0m\u001b[0m\n\u001b[0;32m     10\u001b[0m \u001b[1;33m\u001b[0m\u001b[0m\n\u001b[1;32m---> 11\u001b[1;33m \u001b[0mpv_df\u001b[0m \u001b[1;33m=\u001b[0m \u001b[0mpd\u001b[0m\u001b[1;33m.\u001b[0m\u001b[0mDataFrame\u001b[0m\u001b[1;33m(\u001b[0m\u001b[0mdata\u001b[0m\u001b[1;33m,\u001b[0m \u001b[0mcolumns\u001b[0m\u001b[1;33m=\u001b[0m\u001b[1;33m[\u001b[0m\u001b[1;34m'Producto'\u001b[0m\u001b[1;33m,\u001b[0m \u001b[1;34m'Precio'\u001b[0m\u001b[1;33m]\u001b[0m\u001b[1;33m)\u001b[0m\u001b[1;33m\u001b[0m\u001b[1;33m\u001b[0m\u001b[0m\n\u001b[0m\u001b[0;32m     12\u001b[0m \u001b[0mpv_df\u001b[0m\u001b[1;33m\u001b[0m\u001b[1;33m\u001b[0m\u001b[0m\n",
      "\u001b[1;31mNameError\u001b[0m: name 'pd' is not defined"
     ]
    }
   ],
   "source": [
    "url = \"https://www.plazavea.com.pe/frutas-y-verduras\"\n",
    "r = requests.get(url)\n",
    "\n",
    "soup = BeautifulSoup(r.text, 'lxml')\n",
    "\n",
    "data = []\n",
    "for name, price in zip(soup.find_all('a', attrs={'class': 'Showcase__name'}), \n",
    "                       soup.find_all('div', attrs={'class': 'Showcase__salePrice'})):\n",
    "    data.append([name.text, price.text])\n",
    "    \n",
    "pv_df = pd.DataFrame(data, columns=['Producto', 'Precio'])\n",
    "pv_df"
   ]
  },
  {
   "cell_type": "code",
   "execution_count": null,
   "metadata": {},
   "outputs": [],
   "source": [
    "url = \"https://www.wong.pe/frutas-y-verduras\"\n",
    "r = requests.get(url)\n",
    "\n",
    "soup = BeautifulSoup(r.text, 'lxml')\n",
    "\n",
    "data = []\n",
    "for name, price in zip(soup.find_all('a', class_=\"product-item__name\"), \n",
    "                       soup.find_all('span', class_=\"product-prices__value product-prices__value--best-price\")):\n",
    "    data.append([name.text, price.text])\n",
    "    \n",
    "wong_df = pd.DataFrame(data, columns=['Producto', 'Precio'])\n",
    "wong_df"
   ]
  },
  {
   "cell_type": "code",
   "execution_count": 12,
   "metadata": {},
   "outputs": [
    {
     "data": {
      "text/html": [
       "<div>\n",
       "<style scoped>\n",
       "    .dataframe tbody tr th:only-of-type {\n",
       "        vertical-align: middle;\n",
       "    }\n",
       "\n",
       "    .dataframe tbody tr th {\n",
       "        vertical-align: top;\n",
       "    }\n",
       "\n",
       "    .dataframe thead th {\n",
       "        text-align: right;\n",
       "    }\n",
       "</style>\n",
       "<table border=\"1\" class=\"dataframe\">\n",
       "  <thead>\n",
       "    <tr style=\"text-align: right;\">\n",
       "      <th></th>\n",
       "      <th>Producto</th>\n",
       "      <th>Precio</th>\n",
       "    </tr>\n",
       "  </thead>\n",
       "  <tbody>\n",
       "    <tr>\n",
       "      <th>0</th>\n",
       "      <td>Papaya Metro x kg</td>\n",
       "      <td>S/. 4.99</td>\n",
       "    </tr>\n",
       "    <tr>\n",
       "      <th>1</th>\n",
       "      <td>Cebolla Roja Especial x kg</td>\n",
       "      <td>S/. 3.39</td>\n",
       "    </tr>\n",
       "    <tr>\n",
       "      <th>2</th>\n",
       "      <td>Palta Fuerte Metro x kg</td>\n",
       "      <td>S/. 6.49</td>\n",
       "    </tr>\n",
       "    <tr>\n",
       "      <th>3</th>\n",
       "      <td>Limón x kg</td>\n",
       "      <td>S/. 3.49</td>\n",
       "    </tr>\n",
       "    <tr>\n",
       "      <th>4</th>\n",
       "      <td>Brócoli Metro x kg</td>\n",
       "      <td>S/. 6.49</td>\n",
       "    </tr>\n",
       "    <tr>\n",
       "      <th>5</th>\n",
       "      <td>Tomate Italiano Siembra Dorada Metro x kg</td>\n",
       "      <td>S/. 5.39</td>\n",
       "    </tr>\n",
       "    <tr>\n",
       "      <th>6</th>\n",
       "      <td>Papa Negra Andina Procesada Metro x kg</td>\n",
       "      <td>S/. 4.00</td>\n",
       "    </tr>\n",
       "    <tr>\n",
       "      <th>7</th>\n",
       "      <td>Camote Amarillo Especial x kg</td>\n",
       "      <td>S/. 2.29</td>\n",
       "    </tr>\n",
       "    <tr>\n",
       "      <th>8</th>\n",
       "      <td>Apio Metro x unid</td>\n",
       "      <td>S/. 2.79</td>\n",
       "    </tr>\n",
       "    <tr>\n",
       "      <th>9</th>\n",
       "      <td>Ajos sin Pelar x kg</td>\n",
       "      <td>S/. 21.99</td>\n",
       "    </tr>\n",
       "    <tr>\n",
       "      <th>10</th>\n",
       "      <td>Mango Kent Metro x kg</td>\n",
       "      <td>S/. 4.99</td>\n",
       "    </tr>\n",
       "    <tr>\n",
       "      <th>11</th>\n",
       "      <td>Choclo Especial x unid</td>\n",
       "      <td>S/. 1.99</td>\n",
       "    </tr>\n",
       "    <tr>\n",
       "      <th>12</th>\n",
       "      <td>Plátano de Seda Metro x kg</td>\n",
       "      <td>S/. 2.99</td>\n",
       "    </tr>\n",
       "    <tr>\n",
       "      <th>13</th>\n",
       "      <td>Naranja para Jugo Chanchamayo Metro x kg</td>\n",
       "      <td>S/. 2.49</td>\n",
       "    </tr>\n",
       "    <tr>\n",
       "      <th>14</th>\n",
       "      <td>Zanahoria Especial x kg</td>\n",
       "      <td>S/. 3.49</td>\n",
       "    </tr>\n",
       "    <tr>\n",
       "      <th>15</th>\n",
       "      <td>Vainita Metro x kg</td>\n",
       "      <td>S/. 5.59</td>\n",
       "    </tr>\n",
       "    <tr>\n",
       "      <th>16</th>\n",
       "      <td>Pimiento Metro x kg</td>\n",
       "      <td>S/. 6.79</td>\n",
       "    </tr>\n",
       "    <tr>\n",
       "      <th>17</th>\n",
       "      <td>Arveja x kg</td>\n",
       "      <td>S/. 8.69</td>\n",
       "    </tr>\n",
       "  </tbody>\n",
       "</table>\n",
       "</div>"
      ],
      "text/plain": [
       "                                     Producto     Precio\n",
       "0                           Papaya Metro x kg   S/. 4.99\n",
       "1                  Cebolla Roja Especial x kg   S/. 3.39\n",
       "2                     Palta Fuerte Metro x kg   S/. 6.49\n",
       "3                                  Limón x kg   S/. 3.49\n",
       "4                          Brócoli Metro x kg   S/. 6.49\n",
       "5   Tomate Italiano Siembra Dorada Metro x kg   S/. 5.39\n",
       "6      Papa Negra Andina Procesada Metro x kg   S/. 4.00\n",
       "7               Camote Amarillo Especial x kg   S/. 2.29\n",
       "8                           Apio Metro x unid   S/. 2.79\n",
       "9                         Ajos sin Pelar x kg  S/. 21.99\n",
       "10                      Mango Kent Metro x kg   S/. 4.99\n",
       "11                     Choclo Especial x unid   S/. 1.99\n",
       "12                 Plátano de Seda Metro x kg   S/. 2.99\n",
       "13   Naranja para Jugo Chanchamayo Metro x kg   S/. 2.49\n",
       "14                    Zanahoria Especial x kg   S/. 3.49\n",
       "15                         Vainita Metro x kg   S/. 5.59\n",
       "16                        Pimiento Metro x kg   S/. 6.79\n",
       "17                                Arveja x kg   S/. 8.69"
      ]
     },
     "execution_count": 12,
     "metadata": {},
     "output_type": "execute_result"
    }
   ],
   "source": [
    "import pandas as pd\n",
    "url = \"https://www.metro.pe/frutas-y-verduras\"\n",
    "r = requests.get(url)\n",
    "\n",
    "soup = BeautifulSoup(r.text, 'lxml')\n",
    "\n",
    "data = []\n",
    "for name, price in zip(soup.find_all('a', class_=\"product-item__name\"), \n",
    "                       soup.find_all('span', class_=\"product-prices__value product-prices__value--best-price\")):\n",
    "    data.append([name.text, price.text])\n",
    "    \n",
    "metro_df = pd.DataFrame(data, columns=['Producto', 'Precio'])\n",
    "metro_df"
   ]
  },
  {
   "cell_type": "code",
   "execution_count": null,
   "metadata": {},
   "outputs": [],
   "source": []
  }
 ],
 "metadata": {
  "kernelspec": {
   "display_name": "Python 3",
   "language": "python",
   "name": "python3"
  },
  "language_info": {
   "codemirror_mode": {
    "name": "ipython",
    "version": 3
   },
   "file_extension": ".py",
   "mimetype": "text/x-python",
   "name": "python",
   "nbconvert_exporter": "python",
   "pygments_lexer": "ipython3",
   "version": "3.7.6"
  }
 },
 "nbformat": 4,
 "nbformat_minor": 4
}
