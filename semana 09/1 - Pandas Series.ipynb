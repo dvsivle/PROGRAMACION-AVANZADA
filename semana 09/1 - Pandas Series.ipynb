{
 "cells": [
  {
   "cell_type": "markdown",
   "metadata": {},
   "source": [
    "# Pandas: Data Series\n",
    "Una Serie es el elemento más basico de Pandas para organizar datos.\n",
    "\n",
    "Ideas clave:\n",
    "\n",
    "* Una serie en una organizacion de datos en una sola dimension\n",
    "* Una serie es una colección que obtiene propiedades combinadas de todas las colecciones anteriores:\n",
    "    * Es mutable pero sus métodos retornan Series nuevas (como un str), a menos que se utilice la propiedad inplace=True\n",
    "    * Soporta indexación (como un list) pero esta apunta al dato y no a la posición\n",
    "    * La indexación se puede personalizar (como en un dict) pero los valores son mas importantes que las llaves\n",
    "    * Cada elemento esta compuesto por index-value, pero las operaciones solo afectan valores (como en un np.array)\n",
    "* Los elementos en blanco en un serie se especifican con NaN y su gestión es importante en los resultados"
   ]
  },
  {
   "cell_type": "code",
   "execution_count": 2,
   "metadata": {},
   "outputs": [],
   "source": [
    "import pandas as pd\n",
    "import numpy as np"
   ]
  },
  {
   "cell_type": "markdown",
   "metadata": {},
   "source": [
    "Una Serie es el elemento básico de Pandas. Es una colección de valores asociados a un indice. Se puede crear a partir de una tupla o una lista/arreglo:"
   ]
  },
  {
   "cell_type": "code",
   "execution_count": 3,
   "metadata": {},
   "outputs": [
    {
     "data": {
      "text/plain": [
       "0    10\n",
       "1    20\n",
       "2    30\n",
       "3    40\n",
       "4    50\n",
       "dtype: int64"
      ]
     },
     "execution_count": 3,
     "metadata": {},
     "output_type": "execute_result"
    }
   ],
   "source": [
    "ser = pd.Series([10, 20, 30, 40, 50])  # el indice empieza de 0\n",
    "ser"
   ]
  },
  {
   "cell_type": "markdown",
   "metadata": {},
   "source": [
    "También se puede crear una Serie a partir de un diccionario, donde las llaves se convertiran en índices y los valore en los datos de la Serie."
   ]
  },
  {
   "cell_type": "code",
   "execution_count": 4,
   "metadata": {},
   "outputs": [
    {
     "data": {
      "text/plain": [
       "1    ENE\n",
       "2    FEB\n",
       "3    MAR\n",
       "4    ABR\n",
       "5    MAY\n",
       "6    JUN\n",
       "dtype: object"
      ]
     },
     "execution_count": 4,
     "metadata": {},
     "output_type": "execute_result"
    }
   ],
   "source": [
    "ser = pd.Series({1: 'ENE', 2: 'FEB', 3: 'MAR', 4: 'ABR', 5: 'MAY', 6: 'JUN'})\n",
    "ser"
   ]
  },
  {
   "cell_type": "markdown",
   "metadata": {},
   "source": [
    "### Pregunta\n",
    "¿Qué se obtendrá de la siguiente instrucción?"
   ]
  },
  {
   "cell_type": "code",
   "execution_count": 4,
   "metadata": {},
   "outputs": [
    {
     "data": {
      "text/plain": [
       "0    (0, A)\n",
       "1    (1, B)\n",
       "2    (2, C)\n",
       "dtype: object"
      ]
     },
     "execution_count": 4,
     "metadata": {},
     "output_type": "execute_result"
    }
   ],
   "source": [
    "ser = pd.Series(zip([0, 1, 2], ['A', 'B', 'C']))   #genera tuplas\n",
    "ser"
   ]
  },
  {
   "cell_type": "markdown",
   "metadata": {},
   "source": [
    "## Series a detalle\n",
    "Se puede especificar los detalles de una serie con los atributos `index`, `data`, `name`, `dtype`, etc."
   ]
  },
  {
   "cell_type": "code",
   "execution_count": 5,
   "metadata": {},
   "outputs": [],
   "source": [
    "ser = pd.Series(index=['A', 'B', 'C', 'D', 'E', 'F', 'G', 'H', 'I', 'J'], \n",
    "                data=np.random.randint(1, 100, 10),  # arreglo de 10 números aleatorioa del 1 al 100\n",
    "                name='numeros', # nombre de la serie\n",
    "                dtype=np.float32)"
   ]
  },
  {
   "cell_type": "code",
   "execution_count": 10,
   "metadata": {},
   "outputs": [
    {
     "data": {
      "text/plain": [
       "A    15.0\n",
       "B    86.0\n",
       "C    12.0\n",
       "D    23.0\n",
       "E    22.0\n",
       "F    55.0\n",
       "G    70.0\n",
       "H    96.0\n",
       "I    70.0\n",
       "J    10.0\n",
       "Name: numeros, dtype: float32"
      ]
     },
     "execution_count": 10,
     "metadata": {},
     "output_type": "execute_result"
    }
   ],
   "source": [
    "ser"
   ]
  },
  {
   "cell_type": "markdown",
   "metadata": {},
   "source": [
    "Una Serie tiene propiedades como en el caso de un arreglo, utilizando métodos con el mismo nombre:"
   ]
  },
  {
   "cell_type": "code",
   "execution_count": 11,
   "metadata": {},
   "outputs": [
    {
     "name": "stdout",
     "output_type": "stream",
     "text": [
      "Nombre: numeros\n",
      "Tamaño: 10\n",
      "Forma: (10,)\n",
      "Tipo de datos: float32\n",
      "Numero de bytes: 40\n"
     ]
    }
   ],
   "source": [
    "print(f\"Nombre: {ser.name}\")\n",
    "print(f\"Tamaño: {ser.size}\")\n",
    "print(f\"Forma: {ser.shape}\")  # (# filas, # columnas)\n",
    "print(f\"Tipo de datos: {ser.dtype}\")\n",
    "print(f\"Numero de bytes: {ser.nbytes}\")"
   ]
  },
  {
   "cell_type": "markdown",
   "metadata": {},
   "source": [
    "Las propiedades más visibles de una serie son los `index` y los `values`. Estos se pueden obtener de manera aislada llamado a estas propiedades:"
   ]
  },
  {
   "cell_type": "code",
   "execution_count": 8,
   "metadata": {},
   "outputs": [
    {
     "name": "stdout",
     "output_type": "stream",
     "text": [
      "Index(['A', 'B', 'C', 'D', 'E', 'F', 'G', 'H', 'I', 'J'], dtype='object')\n",
      "[15. 86. 12. 23. 22. 55. 70. 96. 70. 10.]\n"
     ]
    }
   ],
   "source": [
    "# ELEMENTOS DE UNA SERIE\n",
    "print(ser.index)\n",
    "print(ser.values)  #devuelve los valores de la serie, en este caso es un arreglo, ya que no están separados por coma\n"
   ]
  },
  {
   "cell_type": "markdown",
   "metadata": {},
   "source": [
    "El método `describe()` retorna las estadísticas de la Serie:"
   ]
  },
  {
   "cell_type": "code",
   "execution_count": 7,
   "metadata": {},
   "outputs": [
    {
     "name": "stdout",
     "output_type": "stream",
     "text": [
      "count    10.000000\n",
      "mean     60.700001\n",
      "std      25.660391\n",
      "min      22.000000\n",
      "25%      39.500000\n",
      "50%      67.000000\n",
      "75%      79.000000\n",
      "max      96.000000\n",
      "Name: numeros, dtype: float64\n"
     ]
    }
   ],
   "source": [
    "print(ser.describe())      #std: desviación estándar;       25%,50%,75%: percentiles"
   ]
  },
  {
   "cell_type": "markdown",
   "metadata": {},
   "source": [
    "Los índices de un dato en una Serie se pueden utilizar como en el caso de una lista, utilizando `[]`, incluyendo index-slicing pero con la particularidad de que el índice superior esta incluido en la selección. Así también se puede utilizar indexación lógica."
   ]
  },
  {
   "cell_type": "code",
   "execution_count": 9,
   "metadata": {},
   "outputs": [
    {
     "data": {
      "text/plain": [
       "15.0"
      ]
     },
     "execution_count": 9,
     "metadata": {},
     "output_type": "execute_result"
    }
   ],
   "source": [
    "ser['A']"
   ]
  },
  {
   "cell_type": "code",
   "execution_count": 12,
   "metadata": {},
   "outputs": [
    {
     "data": {
      "text/plain": [
       "A    15.0\n",
       "B    86.0\n",
       "C    12.0\n",
       "Name: numeros, dtype: float32"
      ]
     },
     "execution_count": 12,
     "metadata": {},
     "output_type": "execute_result"
    }
   ],
   "source": [
    "ser['A':'C']   # index-slicing"
   ]
  },
  {
   "cell_type": "code",
   "execution_count": 13,
   "metadata": {},
   "outputs": [
    {
     "data": {
      "text/plain": [
       "A    15.0\n",
       "C    12.0\n",
       "D    23.0\n",
       "E    22.0\n",
       "J    10.0\n",
       "Name: numeros, dtype: float32"
      ]
     },
     "execution_count": 13,
     "metadata": {},
     "output_type": "execute_result"
    }
   ],
   "source": [
    "ser[ser < 50]"
   ]
  },
  {
   "cell_type": "markdown",
   "metadata": {},
   "source": [
    "Estas mismas operaciones se puede lograr invocando en método `loc`. Esto es lo más común para distinguir una Serie de una lista/arreglo:"
   ]
  },
  {
   "cell_type": "code",
   "execution_count": 14,
   "metadata": {},
   "outputs": [
    {
     "data": {
      "text/plain": [
       "15.0"
      ]
     },
     "execution_count": 14,
     "metadata": {},
     "output_type": "execute_result"
    }
   ],
   "source": [
    "ser.loc['A'] "
   ]
  },
  {
   "cell_type": "code",
   "execution_count": 157,
   "metadata": {},
   "outputs": [
    {
     "data": {
      "text/plain": [
       "A    29.0\n",
       "B    10.0\n",
       "C    56.0\n",
       "Name: numeros, dtype: float32"
      ]
     },
     "execution_count": 157,
     "metadata": {},
     "output_type": "execute_result"
    }
   ],
   "source": [
    "ser.loc['A':'C']"
   ]
  },
  {
   "cell_type": "code",
   "execution_count": 13,
   "metadata": {},
   "outputs": [
    {
     "data": {
      "text/plain": [
       "C    22.0\n",
       "F    44.0\n",
       "G    38.0\n",
       "H    30.0\n",
       "Name: numeros, dtype: float32"
      ]
     },
     "execution_count": 13,
     "metadata": {},
     "output_type": "execute_result"
    }
   ],
   "source": [
    "ser.loc[ser < 50]"
   ]
  },
  {
   "cell_type": "markdown",
   "metadata": {},
   "source": [
    "Existe también el método `iloc` que una variación del anterior en donde se utiliza la posición de los elementos. En este caso no se puede utilizar indexación booleana."
   ]
  },
  {
   "cell_type": "code",
   "execution_count": 15,
   "metadata": {},
   "outputs": [
    {
     "data": {
      "text/plain": [
       "15.0"
      ]
     },
     "execution_count": 15,
     "metadata": {},
     "output_type": "execute_result"
    }
   ],
   "source": [
    "ser.iloc[0]  #indice de posición no el indice del dato"
   ]
  },
  {
   "cell_type": "code",
   "execution_count": 16,
   "metadata": {},
   "outputs": [
    {
     "data": {
      "text/plain": [
       "A    15.0\n",
       "B    86.0\n",
       "C    12.0\n",
       "Name: numeros, dtype: float32"
      ]
     },
     "execution_count": 16,
     "metadata": {},
     "output_type": "execute_result"
    }
   ],
   "source": [
    "ser.iloc[0:3]"
   ]
  },
  {
   "cell_type": "markdown",
   "metadata": {},
   "source": [
    "Es importante notar la diferencia que existe entre los \"indices\" en una Serie y los \"indices\" en una lista/arreglo. Estos son más parecidos a las llaves de un diccionario que a los índices de las listas/arreglos."
   ]
  },
  {
   "cell_type": "code",
   "execution_count": 18,
   "metadata": {},
   "outputs": [
    {
     "data": {
      "text/plain": [
       "J    10.0\n",
       "C    12.0\n",
       "A    15.0\n",
       "E    22.0\n",
       "D    23.0\n",
       "F    55.0\n",
       "G    70.0\n",
       "I    70.0\n",
       "B    86.0\n",
       "H    96.0\n",
       "Name: numeros, dtype: float32"
      ]
     },
     "execution_count": 18,
     "metadata": {},
     "output_type": "execute_result"
    }
   ],
   "source": [
    "ser.sort_values()  #los indices se ordenan respecto a sus datos asociados\n",
    "                    #sort_values devuelve una serie nueva"
   ]
  },
  {
   "cell_type": "markdown",
   "metadata": {},
   "source": [
    "Otro detalle a considerar es que las operaciones que se realizan vía métodos en una Serie retornan Series nuevas, por lo que el ordenamiento anterior no altera la Serie ser original."
   ]
  },
  {
   "cell_type": "code",
   "execution_count": 19,
   "metadata": {},
   "outputs": [
    {
     "data": {
      "text/plain": [
       "A    15.0\n",
       "B    86.0\n",
       "C    12.0\n",
       "D    23.0\n",
       "E    22.0\n",
       "F    55.0\n",
       "G    70.0\n",
       "H    96.0\n",
       "I    70.0\n",
       "J    10.0\n",
       "Name: numeros, dtype: float32"
      ]
     },
     "execution_count": 19,
     "metadata": {},
     "output_type": "execute_result"
    }
   ],
   "source": [
    "ser"
   ]
  },
  {
   "cell_type": "markdown",
   "metadata": {},
   "source": [
    "Para cambiar la Serie ser y fijar los cambios hechos por el método, se puede asignar el resultado nuevamente a ser, o se puede especificar que se quiere aplicar los cambios sobre la Serie con la propiedad `inplace=True`"
   ]
  },
  {
   "cell_type": "code",
   "execution_count": 20,
   "metadata": {},
   "outputs": [
    {
     "data": {
      "text/plain": [
       "J    10.0\n",
       "C    12.0\n",
       "A    15.0\n",
       "E    22.0\n",
       "D    23.0\n",
       "F    55.0\n",
       "G    70.0\n",
       "I    70.0\n",
       "B    86.0\n",
       "H    96.0\n",
       "Name: numeros, dtype: float32"
      ]
     },
     "execution_count": 20,
     "metadata": {},
     "output_type": "execute_result"
    }
   ],
   "source": [
    "ser.sort_values(inplace=True)\n",
    "ser"
   ]
  },
  {
   "cell_type": "markdown",
   "metadata": {},
   "source": [
    "## Algunos métodos de una Serie\n",
    "Los métodos disponibles para operar sobre una serie son muy amplios. Esto porque al ser una colección cuya intención es la manipulación de datos a nivel aritmético, lógico y de información, contiene muchas operaciones de listas, numpy y base de datos. Aqui se muestran algunos ejemplos de calculo sobre los valores de una Serie:"
   ]
  },
  {
   "cell_type": "code",
   "execution_count": 16,
   "metadata": {},
   "outputs": [
    {
     "name": "stdout",
     "output_type": "stream",
     "text": [
      "Valor maximo: ser[0] = 96.0\n",
      "Valor minimo: ser[2] = 22.0\n",
      "Suma total: 607.0\n",
      "Valor promedio: 60.70000076293945\n",
      "Valor del medio: 67.0\n",
      "Desviacion estandar: 25.660390853881836\n"
     ]
    }
   ],
   "source": [
    "print(f\"Valor maximo: ser[{ser.argmax()}] = {ser.max()}\")  #argmax devuelve la posicion, no el indice\n",
    "print(f\"Valor minimo: ser[{ser.argmin()}] = {ser.min()}\")\n",
    "print(f\"Suma total: {ser.sum()}\")\n",
    "print(f\"Valor promedio: {ser.mean()}\")\n",
    "print(f\"Valor del medio: {ser.median()}\")\n",
    "print(f\"Desviacion estandar: {ser.std()}\")"
   ]
  },
  {
   "cell_type": "markdown",
   "metadata": {},
   "source": [
    "Como vimos anteriormente, se puede utilizar la indexación booleana para filtar elementos y obtener una Serie nueva con los elementos que cumplan con una condición:"
   ]
  },
  {
   "cell_type": "code",
   "execution_count": 21,
   "metadata": {},
   "outputs": [
    {
     "data": {
      "text/plain": [
       "B    86.0\n",
       "H    96.0\n",
       "Name: numeros, dtype: float32"
      ]
     },
     "execution_count": 21,
     "metadata": {},
     "output_type": "execute_result"
    }
   ],
   "source": [
    "# Ordenemos la Serie por indices\n",
    "ser.sort_index(inplace=True)\n",
    "ser[ser > 80]"
   ]
  },
  {
   "cell_type": "markdown",
   "metadata": {},
   "source": [
    "Se puede extraer un elemento de una Serie con el método `pop`, como sucede con una lista/arreglo, pero se requiere especificar el índice. En este caso, no se requiere especificar `ìnplace=True` para que la Serie se afecte."
   ]
  },
  {
   "cell_type": "code",
   "execution_count": 22,
   "metadata": {},
   "outputs": [
    {
     "name": "stdout",
     "output_type": "stream",
     "text": [
      "B    86.0\n",
      "C    12.0\n",
      "D    23.0\n",
      "E    22.0\n",
      "F    55.0\n",
      "G    70.0\n",
      "H    96.0\n",
      "I    70.0\n",
      "J    10.0\n",
      "Name: numeros, dtype: float32\n",
      "Elemento extraido: 15.0\n"
     ]
    }
   ],
   "source": [
    "val = ser.pop('A')\n",
    "print(ser)\n",
    "print(\"Elemento extraido:\", val)"
   ]
  },
  {
   "cell_type": "markdown",
   "metadata": {},
   "source": [
    "Se puede eliminar un elemento de una Serie con el métdodo `drop`, que requiere un índice como argumento de entrada."
   ]
  },
  {
   "cell_type": "code",
   "execution_count": 19,
   "metadata": {},
   "outputs": [
    {
     "name": "stdout",
     "output_type": "stream",
     "text": [
      "A    96.0\n",
      "C    22.0\n",
      "D    68.0\n",
      "E    81.0\n",
      "F    44.0\n",
      "G    38.0\n",
      "H    30.0\n",
      "I    89.0\n",
      "J    73.0\n",
      "Name: numeros, dtype: float32\n"
     ]
    }
   ],
   "source": [
    "ser.drop('B', inplace=True)\n",
    "print(ser)"
   ]
  },
  {
   "cell_type": "markdown",
   "metadata": {},
   "source": [
    "Se puede especificar una operación lógica para eliminar varios valores bajo una condición, pero hay que recordar que el método `drop` requiere índices, por lo que será necesario llamar a la propiedad `index` del resultado de la Serie booleana:"
   ]
  },
  {
   "cell_type": "code",
   "execution_count": 23,
   "metadata": {},
   "outputs": [
    {
     "data": {
      "text/plain": [
       "B    86.0\n",
       "F    55.0\n",
       "G    70.0\n",
       "H    96.0\n",
       "I    70.0\n",
       "Name: numeros, dtype: float32"
      ]
     },
     "execution_count": 23,
     "metadata": {},
     "output_type": "execute_result"
    }
   ],
   "source": [
    "ser.drop(ser[ser < 40].index)  #ser[ser < 40] devuelve un dataframe nuevo"
   ]
  },
  {
   "cell_type": "markdown",
   "metadata": {},
   "source": [
    "Para agregar valores a una Serie, se puede utilizar la nomenclatura que se utiliza en un diccionario para agregar elementos:"
   ]
  },
  {
   "cell_type": "code",
   "execution_count": 24,
   "metadata": {},
   "outputs": [
    {
     "data": {
      "text/plain": [
       "B    86.0\n",
       "C    12.0\n",
       "D    23.0\n",
       "E    22.0\n",
       "F     9.0\n",
       "G    70.0\n",
       "H    96.0\n",
       "I    70.0\n",
       "J    10.0\n",
       "Name: numeros, dtype: float32"
      ]
     },
     "execution_count": 24,
     "metadata": {},
     "output_type": "execute_result"
    }
   ],
   "source": [
    "ser['F'] = 9.0    # modifica el valor asociado al índice F\n",
    "ser"
   ]
  },
  {
   "cell_type": "markdown",
   "metadata": {},
   "source": [
    "Esto se puede combinar con alguna operación en la Serie:"
   ]
  },
  {
   "cell_type": "code",
   "execution_count": 25,
   "metadata": {},
   "outputs": [
    {
     "data": {
      "text/plain": [
       "B     86.0\n",
       "C     12.0\n",
       "D     23.0\n",
       "E     22.0\n",
       "F      9.0\n",
       "G     70.0\n",
       "H     96.0\n",
       "I     70.0\n",
       "J     10.0\n",
       "Z    398.0\n",
       "Name: numeros, dtype: float64"
      ]
     },
     "execution_count": 25,
     "metadata": {},
     "output_type": "execute_result"
    }
   ],
   "source": [
    "ser['Z'] = ser.sum()\n",
    "ser"
   ]
  },
  {
   "cell_type": "markdown",
   "metadata": {},
   "source": [
    "La conducta de una Serie sobre algunas operaciones es su respuesta que incialmente puede resultar desconcertante. Por ejemplo, cuando se pide mostar los valores de una Seria que sean menores a un valor dado, lo que devolverá es una Serie nueva, en donde los valores han sido reemplazados por elementos booleanos que responden a la condición elemento-a-elemento:"
   ]
  },
  {
   "cell_type": "code",
   "execution_count": 24,
   "metadata": {},
   "outputs": [
    {
     "name": "stdout",
     "output_type": "stream",
     "text": [
      "Valores en ser mayores a 80:\n"
     ]
    },
    {
     "data": {
      "text/plain": [
       "A     True\n",
       "C    False\n",
       "D    False\n",
       "E     True\n",
       "F    False\n",
       "G    False\n",
       "H    False\n",
       "I     True\n",
       "J    False\n",
       "Z     True\n",
       "Name: numeros, dtype: bool"
      ]
     },
     "execution_count": 24,
     "metadata": {},
     "output_type": "execute_result"
    }
   ],
   "source": [
    "print(\"Valores en ser mayores a 80:\")\n",
    "ser > 80"
   ]
  },
  {
   "cell_type": "markdown",
   "metadata": {},
   "source": [
    "Se puede utilizar el método `where` que, como en el caso de un arreglo, retorna los índices en donde se cumple con una condición. Sin embargo, en una Serie lo que retornará sera una nueva Serie con elementos `NaN` que se deben interpretar como elemetos en blanco. `NaN` es la forma que tiene Pandas de especificar que no hay dato (lo que en Python se conoce como `None`)"
   ]
  },
  {
   "cell_type": "code",
   "execution_count": 25,
   "metadata": {},
   "outputs": [
    {
     "name": "stdout",
     "output_type": "stream",
     "text": [
      "Valores en ser mayores a 80:\n"
     ]
    },
    {
     "data": {
      "text/plain": [
       "A      96.0\n",
       "C       NaN\n",
       "D       NaN\n",
       "E      81.0\n",
       "F       NaN\n",
       "G       NaN\n",
       "H       NaN\n",
       "I      89.0\n",
       "J       NaN\n",
       "Z    1047.0\n",
       "Name: numeros, dtype: float64"
      ]
     },
     "execution_count": 25,
     "metadata": {},
     "output_type": "execute_result"
    }
   ],
   "source": [
    "print(\"Valores en ser mayores a 80:\")\n",
    "ser.where(ser > 80) #devuele en dataframe del mism tamaño ,pero con espacios en blanco\n"
   ]
  },
  {
   "cell_type": "markdown",
   "metadata": {},
   "source": [
    "## Gestión de los NaN\n",
    "Esto nos lleva a una de las operaciones más comúnes al momento de procesar información en Pandas: ¿qué hacer con los NaN?. Veamos el siguiente ejemplo: ordenemos los elementos por valor:"
   ]
  },
  {
   "cell_type": "code",
   "execution_count": 26,
   "metadata": {},
   "outputs": [
    {
     "name": "stdout",
     "output_type": "stream",
     "text": [
      "F       9.0\n",
      "C      22.0\n",
      "H      30.0\n",
      "G      38.0\n",
      "D      68.0\n",
      "J      73.0\n",
      "E      81.0\n",
      "I      89.0\n",
      "A      96.0\n",
      "Z    1047.0\n",
      "Name: numeros, dtype: float64\n"
     ]
    }
   ],
   "source": [
    "ser.sort_values(inplace=True)\n",
    "print(ser)"
   ]
  },
  {
   "cell_type": "markdown",
   "metadata": {},
   "source": [
    "Ahora, llamemos al método `rolling`. Este método especifica una ventana móvil; esto es que coloca una ventana deslizante sobre los valores para que posteriormente se puede aplicar una operación sobre los valores agrupados en la ventana. En este ejemplo, se crea una ventana de tamaño 3 que va barriendo la Serie y luego se suma cada una de estas agrupaciones:"
   ]
  },
  {
   "cell_type": "code",
   "execution_count": 27,
   "metadata": {},
   "outputs": [
    {
     "name": "stdout",
     "output_type": "stream",
     "text": [
      "F       NaN\n",
      "C       NaN\n",
      "H      61.0\n",
      "G      90.0\n",
      "D     136.0\n",
      "J     179.0\n",
      "E     222.0\n",
      "I     243.0\n",
      "A     266.0\n",
      "Z    1232.0\n",
      "Name: numeros, dtype: float64\n"
     ]
    }
   ],
   "source": [
    "ser_roll = ser.rolling(window=3).sum()\n",
    "print(ser_roll)"
   ]
  },
  {
   "cell_type": "markdown",
   "metadata": {},
   "source": [
    "Los 10 elementos de la Serie original se trasladan a la Serie resultante, solo que en los primeros dos valores no hay elementos suficientes para hacer una ventana de 3 elementos, por lo que el método `sum` retorna `NaN.` ¿Qué hacer con esos `Nan`? Primero, tenemos métodos para que el script pueda saber si hay o no elementos `NaN`:"
   ]
  },
  {
   "cell_type": "code",
   "execution_count": 196,
   "metadata": {},
   "outputs": [
    {
     "data": {
      "text/plain": [
       "G     True\n",
       "E     True\n",
       "J    False\n",
       "D    False\n",
       "I    False\n",
       "H    False\n",
       "C    False\n",
       "F    False\n",
       "Z    False\n",
       "Name: numeros, dtype: bool"
      ]
     },
     "execution_count": 196,
     "metadata": {},
     "output_type": "execute_result"
    }
   ],
   "source": [
    "ser_roll.isna()"
   ]
  },
  {
   "cell_type": "code",
   "execution_count": 114,
   "metadata": {},
   "outputs": [
    {
     "data": {
      "text/plain": [
       "F    False\n",
       "I    False\n",
       "H     True\n",
       "E     True\n",
       "B     True\n",
       "G     True\n",
       "D     True\n",
       "J     True\n",
       "C     True\n",
       "Z     True\n",
       "Name: numeros, dtype: bool"
      ]
     },
     "execution_count": 114,
     "metadata": {},
     "output_type": "execute_result"
    }
   ],
   "source": [
    "ser_roll.notna()"
   ]
  },
  {
   "cell_type": "markdown",
   "metadata": {},
   "source": [
    "### Pregunta\n",
    "¿Que instrucciones escribiría para saber cuantos elementos son y no son NaN en la Serie ser_roll?"
   ]
  },
  {
   "cell_type": "code",
   "execution_count": 217,
   "metadata": {},
   "outputs": [
    {
     "name": "stdout",
     "output_type": "stream",
     "text": [
      "NaN: 2\n",
      "No NaN: 7\n"
     ]
    }
   ],
   "source": [
    "print(\"NaN:\", ser_roll.isna().sum())  #se hace una suma, ya que .isna devolverá '1'\n",
    "print(\"No NaN:\", ser_roll.count())   # cuenta los datos diferentes a NaN"
   ]
  },
  {
   "cell_type": "markdown",
   "metadata": {},
   "source": [
    "Una vez que sabemos que tenemos elementos NaN, debemos decidír que hacer con ellos. Los podemos eliminar de plano:"
   ]
  },
  {
   "cell_type": "code",
   "execution_count": 115,
   "metadata": {},
   "outputs": [
    {
     "data": {
      "text/plain": [
       "H     66.0\n",
       "E    124.0\n",
       "B    179.0\n",
       "G    228.0\n",
       "D    249.0\n",
       "J    263.0\n",
       "C    275.0\n",
       "Z    756.0\n",
       "Name: numeros, dtype: float64"
      ]
     },
     "execution_count": 115,
     "metadata": {},
     "output_type": "execute_result"
    }
   ],
   "source": [
    "ser_roll.dropna()"
   ]
  },
  {
   "cell_type": "markdown",
   "metadata": {},
   "source": [
    "Los podemos reemplazar con otro valor, como 0:"
   ]
  },
  {
   "cell_type": "code",
   "execution_count": 116,
   "metadata": {},
   "outputs": [
    {
     "data": {
      "text/plain": [
       "F      0.0\n",
       "I      0.0\n",
       "H     66.0\n",
       "E    124.0\n",
       "B    179.0\n",
       "G    228.0\n",
       "D    249.0\n",
       "J    263.0\n",
       "C    275.0\n",
       "Z    756.0\n",
       "Name: numeros, dtype: float64"
      ]
     },
     "execution_count": 116,
     "metadata": {},
     "output_type": "execute_result"
    }
   ],
   "source": [
    "ser_roll.fillna(0)"
   ]
  },
  {
   "cell_type": "markdown",
   "metadata": {},
   "source": [
    "O lo podemos reemplazar por un valor que no afecte a las estadisticas específicias de la muestra, por ejemplo, reemplazando los NaN por el valor promedio de la Serie no se afecta el promedio de los datos originales:"
   ]
  },
  {
   "cell_type": "code",
   "execution_count": 28,
   "metadata": {},
   "outputs": [
    {
     "name": "stdout",
     "output_type": "stream",
     "text": [
      "F     303.625\n",
      "C     303.625\n",
      "H      61.000\n",
      "G      90.000\n",
      "D     136.000\n",
      "J     179.000\n",
      "E     222.000\n",
      "I     243.000\n",
      "A     266.000\n",
      "Z    1232.000\n",
      "Name: numeros, dtype: float64\n",
      "Mediana ser_roll: 303.625\n",
      "Mediana ser_new: 303.625\n"
     ]
    }
   ],
   "source": [
    "ser_new = ser_roll.fillna(ser_roll.mean())  # mean caluclará el promedio solo con los los valores difreentes a NaN\n",
    "print(ser_new)\n",
    "print(\"Mediana ser_roll:\", ser_roll.mean())\n",
    "print(\"Mediana ser_new:\", ser_new.mean())"
   ]
  },
  {
   "cell_type": "markdown",
   "metadata": {},
   "source": [
    "La gestión de los NaN va a depender del análisis que se esta realizado: en pocas palabras, de los datos."
   ]
  }
 ],
 "metadata": {
  "kernelspec": {
   "display_name": "Python 3",
   "language": "python",
   "name": "python3"
  },
  "language_info": {
   "codemirror_mode": {
    "name": "ipython",
    "version": 3
   },
   "file_extension": ".py",
   "mimetype": "text/x-python",
   "name": "python",
   "nbconvert_exporter": "python",
   "pygments_lexer": "ipython3",
   "version": "3.7.6"
  }
 },
 "nbformat": 4,
 "nbformat_minor": 4
}
